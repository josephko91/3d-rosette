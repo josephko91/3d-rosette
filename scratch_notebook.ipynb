{
 "cells": [
  {
   "cell_type": "code",
   "execution_count": null,
   "metadata": {},
   "outputs": [],
   "source": [
    "import numpy as np \n",
    "\n",
    "# Set parameters \n",
    "n_cores = 10 # set number of cores \n",
    "a_lower, a_upper = 0.2, 0.5 \n",
    "c_lower, c_upper =  1.0, 3.0\n",
    "n_arms_lower, n_arms_upper = 4, 6\n",
    "n_arr = 5\n",
    "\n",
    "def test_func():\n",
    "    print(n_arr)\n",
    "\n",
    "def main():\n",
    "    test_func()\n",
    "\n",
    "\n",
    "if __name__==\"__main__\":\n",
    "    freeze_support()\n",
    "    main()"
   ]
  }
 ],
 "metadata": {
  "language_info": {
   "name": "python"
  },
  "orig_nbformat": 4
 },
 "nbformat": 4,
 "nbformat_minor": 2
}
