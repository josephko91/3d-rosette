{
 "cells": [
  {
   "cell_type": "code",
   "execution_count": 1,
   "metadata": {},
   "outputs": [],
   "source": [
    "from rosette import Rosette\n",
    "import pyvista as pv"
   ]
  },
  {
   "cell_type": "code",
   "execution_count": 7,
   "metadata": {},
   "outputs": [
    {
     "data": {
      "application/vnd.jupyter.widget-view+json": {
       "model_id": "9eea1df3ca2948538a36f8938b7167dc",
       "version_major": 2,
       "version_minor": 0
      },
      "text/plain": [
       "Widget(value=\"<iframe src='http://localhost:49314/index.html?ui=P_0x15f0b6bc0_5&reconnect=auto' style='width: …"
      ]
     },
     "metadata": {},
     "output_type": "display_data"
    }
   ],
   "source": [
    "# Test instantiation\n",
    "# set geoemetric parameters\n",
    "a = 0.5 # half max length across basal face\n",
    "c =  2.0 # half max length across prism face\n",
    "r0 = 1.0 # radius of center sphere\n",
    "h0 = 0.25 # penetration depth of bullets\n",
    "hp = 0.75 # heights of pyramid of bullets\n",
    "n_arms = 8 # number of bullet arms\n",
    "\n",
    "# set render parameters \n",
    "# pv.global_theme.restore_defaults()\n",
    "bg_color = 'black' # background color of render\n",
    "obj_color = 'white' # color of object\n",
    "op = 0.9 # opacity of object\n",
    "\n",
    "# plot \n",
    "test = Rosette(a, c, r0, h0, hp, n_arms)\n",
    "pl = test.plot()\n",
    "pl.show()"
   ]
  },
  {
   "cell_type": "code",
   "execution_count": 9,
   "metadata": {},
   "outputs": [
    {
     "name": "stdout",
     "output_type": "stream",
     "text": [
      " JS Error => error: Uncaught TypeError: Cannot read properties of null (reading 'setSize')\n",
      " JS Error => error: Uncaught TypeError: Cannot read properties of null (reading 'setSize')\n",
      " JS Error => error: Uncaught TypeError: Cannot read properties of null (reading 'setSize')\n",
      " JS Error => error: Uncaught TypeError: Cannot read properties of null (reading 'setSize')\n"
     ]
    },
    {
     "data": {
      "application/vnd.jupyter.widget-view+json": {
       "model_id": "5c69906439b14a5fb4bf6d545ccc406f",
       "version_major": 2,
       "version_minor": 0
      },
      "text/plain": [
       "Widget(value=\"<iframe src='http://localhost:49314/index.html?ui=P_0x160cf76d0_7&reconnect=auto' style='width: …"
      ]
     },
     "metadata": {},
     "output_type": "display_data"
    },
    {
     "name": "stdout",
     "output_type": "stream",
     "text": [
      " JS Error => error: Uncaught TypeError: Cannot read properties of null (reading 'setSize')\n",
      " JS Error => error: Uncaught TypeError: Cannot read properties of null (reading 'setSize')\n",
      " JS Error => error: Uncaught TypeError: Cannot read properties of null (reading 'setSize')\n",
      " JS Error => error: Uncaught TypeError: Cannot read properties of null (reading 'setSize')\n",
      " JS Error => error: Uncaught TypeError: Cannot read properties of null (reading 'setSize')\n",
      " JS Error => error: Uncaught TypeError: Cannot read properties of null (reading 'setSize')\n",
      " JS Error => error: Uncaught TypeError: Cannot read properties of null (reading 'setSize')\n",
      " JS Error => error: Uncaught TypeError: Cannot read properties of null (reading 'setSize')\n",
      " JS Error => error: Uncaught TypeError: Cannot read properties of null (reading 'setSize')\n",
      " JS Error => error: Uncaught TypeError: Cannot read properties of null (reading 'setSize')\n",
      " JS Error => error: Uncaught TypeError: Cannot read properties of null (reading 'setSize')\n",
      " JS Error => error: Uncaught TypeError: Cannot read properties of null (reading 'setSize')\n",
      " JS Error => error: Uncaught TypeError: Cannot read properties of null (reading 'setSize')\n",
      " JS Error => error: Uncaught TypeError: Cannot read properties of null (reading 'setSize')\n",
      " JS Error => error: Uncaught TypeError: Cannot read properties of null (reading 'setSize')\n",
      " JS Error => error: Uncaught TypeError: Cannot read properties of null (reading 'setSize')\n",
      " JS Error => error: Uncaught TypeError: Cannot read properties of null (reading 'setSize')\n",
      " JS Error => error: Uncaught TypeError: Cannot read properties of null (reading 'setSize')\n",
      " JS Error => error: Uncaught TypeError: Cannot read properties of null (reading 'setSize')\n",
      " JS Error => error: Uncaught TypeError: Cannot read properties of null (reading 'setSize')\n",
      " JS Error => error: Uncaught TypeError: Cannot read properties of null (reading 'setSize')\n",
      " JS Error => error: Uncaught TypeError: Cannot read properties of null (reading 'setSize')\n",
      " JS Error => error: Uncaught TypeError: Cannot read properties of null (reading 'setSize')\n",
      " JS Error => error: Uncaught TypeError: Cannot read properties of null (reading 'setSize')\n",
      " JS Error => error: Uncaught TypeError: Cannot read properties of null (reading 'setSize')\n",
      " JS Error => error: Uncaught TypeError: Cannot read properties of null (reading 'setSize')\n",
      " JS Error => error: Uncaught TypeError: Cannot read properties of null (reading 'setSize')\n",
      " JS Error => error: Uncaught TypeError: Cannot read properties of null (reading 'setSize')\n",
      " JS Error => error: Uncaught TypeError: Cannot read properties of null (reading 'setSize')\n",
      " JS Error => error: Uncaught TypeError: Cannot read properties of null (reading 'setSize')\n",
      " JS Error => error: Uncaught TypeError: Cannot read properties of null (reading 'setSize')\n",
      " JS Error => error: Uncaught TypeError: Cannot read properties of null (reading 'setSize')\n",
      " JS Error => error: Uncaught TypeError: Cannot read properties of null (reading 'setSize')\n",
      " JS Error => error: Uncaught TypeError: Cannot read properties of null (reading 'setSize')\n",
      " JS Error => error: Uncaught TypeError: Cannot read properties of null (reading 'setSize')\n",
      " JS Error => error: Uncaught TypeError: Cannot read properties of null (reading 'setSize')\n",
      " JS Error => error: Uncaught TypeError: Cannot read properties of null (reading 'setSize')\n",
      " JS Error => error: Uncaught TypeError: Cannot read properties of null (reading 'setSize')\n",
      " JS Error => error: Uncaught TypeError: Cannot read properties of null (reading 'setSize')\n",
      " JS Error => error: Uncaught TypeError: Cannot read properties of null (reading 'setSize')\n",
      " JS Error => error: Uncaught TypeError: Cannot read properties of null (reading 'setSize')\n",
      " JS Error => error: Uncaught TypeError: Cannot read properties of null (reading 'setSize')\n",
      " JS Error => error: Uncaught TypeError: Cannot read properties of null (reading 'setSize')\n",
      " JS Error => error: Uncaught TypeError: Cannot read properties of null (reading 'setSize')\n",
      " JS Error => error: Uncaught TypeError: Cannot read properties of null (reading 'setSize')\n",
      " JS Error => error: Uncaught TypeError: Cannot read properties of null (reading 'setSize')\n",
      " JS Error => error: Uncaught TypeError: Cannot read properties of null (reading 'setSize')\n",
      " JS Error => error: Uncaught TypeError: Cannot read properties of null (reading 'setSize')\n",
      " JS Error => error: Uncaught TypeError: Cannot read properties of null (reading 'setSize')\n",
      " JS Error => error: Uncaught TypeError: Cannot read properties of null (reading 'setSize')\n",
      " JS Error => error: Uncaught TypeError: Cannot read properties of null (reading 'setSize')\n",
      " JS Error => error: Uncaught TypeError: Cannot read properties of null (reading 'setSize')\n",
      " JS Error => error: Uncaught TypeError: Cannot read properties of null (reading 'setSize')\n",
      " JS Error => error: Uncaught TypeError: Cannot read properties of null (reading 'setSize')\n",
      " JS Error => error: Uncaught TypeError: Cannot read properties of null (reading 'setSize')\n",
      " JS Error => error: Uncaught TypeError: Cannot read properties of null (reading 'setSize')\n",
      " JS Error => error: Uncaught TypeError: Cannot read properties of null (reading 'setSize')\n",
      " JS Error => error: Uncaught TypeError: Cannot read properties of null (reading 'setSize')\n",
      " JS Error => error: Uncaught TypeError: Cannot read properties of null (reading 'setSize')\n",
      " JS Error => error: Uncaught TypeError: Cannot read properties of null (reading 'setSize')\n",
      " JS Error => error: Uncaught TypeError: Cannot read properties of null (reading 'setSize')\n",
      " JS Error => error: Uncaught TypeError: Cannot read properties of null (reading 'setSize')\n",
      " JS Error => error: Uncaught TypeError: Cannot read properties of null (reading 'setSize')\n",
      " JS Error => error: Uncaught TypeError: Cannot read properties of null (reading 'setSize')\n",
      " JS Error => error: Uncaught TypeError: Cannot read properties of null (reading 'setSize')\n",
      " JS Error => error: Uncaught TypeError: Cannot read properties of null (reading 'setSize')\n",
      " JS Error => error: Uncaught TypeError: Cannot read properties of null (reading 'setSize')\n",
      " JS Error => error: Uncaught TypeError: Cannot read properties of null (reading 'setSize')\n",
      " JS Error => error: Uncaught TypeError: Cannot read properties of null (reading 'setSize')\n",
      " JS Error => error: Uncaught TypeError: Cannot read properties of null (reading 'setSize')\n",
      " JS Error => error: Uncaught TypeError: Cannot read properties of null (reading 'setSize')\n",
      " JS Error => error: Uncaught TypeError: Cannot read properties of null (reading 'setSize')\n",
      " JS Error => error: Uncaught TypeError: Cannot read properties of null (reading 'setSize')\n",
      " JS Error => error: Uncaught TypeError: Cannot read properties of null (reading 'setSize')\n",
      " JS Error => error: Uncaught TypeError: Cannot read properties of null (reading 'setSize')\n",
      " JS Error => error: Uncaught TypeError: Cannot read properties of null (reading 'setSize')\n",
      " JS Error => error: Uncaught TypeError: Cannot read properties of null (reading 'setSize')\n",
      " JS Error => error: Uncaught TypeError: Cannot read properties of null (reading 'setSize')\n",
      " JS Error => error: Uncaught TypeError: Cannot read properties of null (reading 'setSize')\n",
      " JS Error => error: Uncaught TypeError: Cannot read properties of null (reading 'setSize')\n",
      " JS Error => error: Uncaught TypeError: Cannot read properties of null (reading 'setSize')\n",
      " JS Error => error: Uncaught TypeError: Cannot read properties of null (reading 'setSize')\n",
      " JS Error => error: Uncaught TypeError: Cannot read properties of null (reading 'setSize')\n",
      " JS Error => error: Uncaught TypeError: Cannot read properties of null (reading 'setSize')\n",
      " JS Error => error: Uncaught TypeError: Cannot read properties of null (reading 'setSize')\n",
      " JS Error => error: Uncaught TypeError: Cannot read properties of null (reading 'setSize')\n",
      " JS Error => error: Uncaught TypeError: Cannot read properties of null (reading 'setSize')\n",
      " JS Error => error: Uncaught TypeError: Cannot read properties of null (reading 'setSize')\n",
      " JS Error => error: Uncaught TypeError: Cannot read properties of null (reading 'setSize')\n",
      " JS Error => error: Uncaught TypeError: Cannot read properties of null (reading 'setSize')\n",
      " JS Error => error: Uncaught TypeError: Cannot read properties of null (reading 'setSize')\n",
      " JS Error => error: Uncaught TypeError: Cannot read properties of null (reading 'setSize')\n",
      " JS Error => error: Uncaught TypeError: Cannot read properties of null (reading 'setSize')\n",
      " JS Error => error: Uncaught TypeError: Cannot read properties of null (reading 'setSize')\n",
      " JS Error => error: Uncaught TypeError: Cannot read properties of null (reading 'setSize')\n",
      " JS Error => error: Uncaught TypeError: Cannot read properties of null (reading 'setSize')\n",
      " JS Error => error: Uncaught TypeError: Cannot read properties of null (reading 'setSize')\n",
      " JS Error => error: Uncaught TypeError: Cannot read properties of null (reading 'setSize')\n",
      " JS Error => error: Uncaught TypeError: Cannot read properties of null (reading 'setSize')\n",
      " JS Error => error: Uncaught TypeError: Cannot read properties of null (reading 'setSize')\n",
      " JS Error => error: Uncaught TypeError: Cannot read properties of null (reading 'setSize')\n",
      " JS Error => error: Uncaught TypeError: Cannot read properties of null (reading 'setSize')\n",
      " JS Error => error: Uncaught TypeError: Cannot read properties of null (reading 'setSize')\n",
      " JS Error => error: Uncaught TypeError: Cannot read properties of null (reading 'setSize')\n",
      " JS Error => error: Uncaught TypeError: Cannot read properties of null (reading 'setSize')\n",
      " JS Error => error: Uncaught TypeError: Cannot read properties of null (reading 'setSize')\n",
      " JS Error => error: Uncaught TypeError: Cannot read properties of null (reading 'setSize')\n",
      " JS Error => error: Uncaught TypeError: Cannot read properties of null (reading 'setSize')\n",
      " JS Error => error: Uncaught TypeError: Cannot read properties of null (reading 'setSize')\n",
      " JS Error => error: Uncaught TypeError: Cannot read properties of null (reading 'setSize')\n",
      " JS Error => error: Uncaught TypeError: Cannot read properties of null (reading 'setSize')\n",
      " JS Error => error: Uncaught TypeError: Cannot read properties of null (reading 'setSize')\n",
      " JS Error => error: Uncaught TypeError: Cannot read properties of null (reading 'setSize')\n",
      " JS Error => error: Uncaught TypeError: Cannot read properties of null (reading 'setSize')\n",
      " JS Error => error: Uncaught TypeError: Cannot read properties of null (reading 'setSize')\n",
      " JS Error => error: Uncaught TypeError: Cannot read properties of null (reading 'setSize')\n",
      " JS Error => error: Uncaught TypeError: Cannot read properties of null (reading 'setSize')\n",
      " JS Error => error: Uncaught TypeError: Cannot read properties of null (reading 'setSize')\n",
      " JS Error => error: Uncaught TypeError: Cannot read properties of null (reading 'setSize')\n",
      " JS Error => error: Uncaught TypeError: Cannot read properties of null (reading 'setSize')\n",
      " JS Error => error: Uncaught TypeError: Cannot read properties of null (reading 'setSize')\n",
      " JS Error => error: Uncaught TypeError: Cannot read properties of null (reading 'setSize')\n",
      " JS Error => error: Uncaught TypeError: Cannot read properties of null (reading 'setSize')\n",
      " JS Error => error: Uncaught TypeError: Cannot read properties of null (reading 'setSize')\n",
      " JS Error => error: Uncaught TypeError: Cannot read properties of null (reading 'setSize')\n",
      " JS Error => error: Uncaught TypeError: Cannot read properties of null (reading 'setSize')\n",
      " JS Error => error: Uncaught TypeError: Cannot read properties of null (reading 'setSize')\n",
      " JS Error => error: Uncaught TypeError: Cannot read properties of null (reading 'setSize')\n",
      " JS Error => error: Uncaught TypeError: Cannot read properties of null (reading 'setSize')\n",
      " JS Error => error: Uncaught TypeError: Cannot read properties of null (reading 'setSize')\n",
      " JS Error => error: Uncaught TypeError: Cannot read properties of null (reading 'setSize')\n",
      " JS Error => error: Uncaught TypeError: Cannot read properties of null (reading 'setSize')\n",
      " JS Error => error: Uncaught TypeError: Cannot read properties of null (reading 'setSize')\n",
      " JS Error => error: Uncaught TypeError: Cannot read properties of null (reading 'setSize')\n",
      " JS Error => error: Uncaught TypeError: Cannot read properties of null (reading 'setSize')\n",
      " JS Error => error: Uncaught TypeError: Cannot read properties of null (reading 'setSize')\n",
      " JS Error => error: Uncaught TypeError: Cannot read properties of null (reading 'setSize')\n",
      " JS Error => error: Uncaught TypeError: Cannot read properties of null (reading 'setSize')\n",
      " JS Error => error: Uncaught TypeError: Cannot read properties of null (reading 'setSize')\n",
      " JS Error => error: Uncaught TypeError: Cannot read properties of null (reading 'setSize')\n",
      " JS Error => error: Uncaught TypeError: Cannot read properties of null (reading 'setSize')\n",
      " JS Error => error: Uncaught TypeError: Cannot read properties of null (reading 'setSize')\n",
      " JS Error => error: Uncaught TypeError: Cannot read properties of null (reading 'setSize')\n",
      " JS Error => error: Uncaught TypeError: Cannot read properties of null (reading 'setSize')\n",
      " JS Error => error: Uncaught TypeError: Cannot read properties of null (reading 'setSize')\n",
      " JS Error => error: Uncaught TypeError: Cannot read properties of null (reading 'setSize')\n",
      " JS Error => error: Uncaught TypeError: Cannot read properties of null (reading 'setSize')\n",
      " JS Error => error: Uncaught TypeError: Cannot read properties of null (reading 'setSize')\n",
      " JS Error => error: Uncaught TypeError: Cannot read properties of null (reading 'setSize')\n",
      " JS Error => error: Uncaught TypeError: Cannot read properties of null (reading 'setSize')\n",
      " JS Error => error: Uncaught TypeError: Cannot read properties of null (reading 'setSize')\n",
      " JS Error => error: Uncaught TypeError: Cannot read properties of null (reading 'setSize')\n",
      " JS Error => error: Uncaught TypeError: Cannot read properties of null (reading 'setSize')\n",
      " JS Error => error: Uncaught TypeError: Cannot read properties of null (reading 'setSize')\n",
      " JS Error => error: Uncaught TypeError: Cannot read properties of null (reading 'setSize')\n",
      " JS Error => error: Uncaught TypeError: Cannot read properties of null (reading 'setSize')\n",
      " JS Error => error: Uncaught TypeError: Cannot read properties of null (reading 'setSize')\n",
      " JS Error => error: Uncaught TypeError: Cannot read properties of null (reading 'setSize')\n",
      " JS Error => error: Uncaught TypeError: Cannot read properties of null (reading 'setSize')\n",
      " JS Error => error: Uncaught TypeError: Cannot read properties of null (reading 'setSize')\n",
      " JS Error => error: Uncaught TypeError: Cannot read properties of null (reading 'setSize')\n",
      " JS Error => error: Uncaught TypeError: Cannot read properties of null (reading 'setSize')\n",
      " JS Error => error: Uncaught TypeError: Cannot read properties of null (reading 'setSize')\n",
      " JS Error => error: Uncaught TypeError: Cannot read properties of null (reading 'setSize')\n",
      " JS Error => error: Uncaught TypeError: Cannot read properties of null (reading 'setSize')\n",
      " JS Error => error: Uncaught TypeError: Cannot read properties of null (reading 'setSize')\n",
      " JS Error => error: Uncaught TypeError: Cannot read properties of null (reading 'setSize')\n",
      " JS Error => error: Uncaught TypeError: Cannot read properties of null (reading 'setSize')\n",
      " JS Error => error: Uncaught TypeError: Cannot read properties of null (reading 'setSize')\n",
      " JS Error => error: Uncaught TypeError: Cannot read properties of null (reading 'setSize')\n",
      " JS Error => error: Uncaught TypeError: Cannot read properties of null (reading 'setSize')\n",
      " JS Error => error: Uncaught TypeError: Cannot read properties of null (reading 'setSize')\n",
      " JS Error => error: Uncaught TypeError: Cannot read properties of null (reading 'setSize')\n",
      " JS Error => error: Uncaught TypeError: Cannot read properties of null (reading 'setSize')\n"
     ]
    }
   ],
   "source": [
    "# demo randomization of bullet scaling and position\n",
    "basal_min, basal_max = 0.75, 1.25\n",
    "prism_min, prism_max = 0.5, 1.5\n",
    "scaling_range = [basal_min, basal_max, prism_min, prism_max]\n",
    "solid_angle = 20\n",
    "test_randomized = test.randomize_bullets(scaling=scaling_range, location=solid_angle, inplace=False)\n",
    "pl2 = test_randomized.plot()\n",
    "pl2.show()"
   ]
  },
  {
   "cell_type": "code",
   "execution_count": 4,
   "metadata": {},
   "outputs": [
    {
     "data": {
      "application/vnd.jupyter.widget-view+json": {
       "model_id": "2fb3ac3cc32a453aa7b9d457e999f488",
       "version_major": 2,
       "version_minor": 0
      },
      "text/plain": [
       "Widget(value=\"<iframe src='http://localhost:49314/index.html?ui=P_0x1680c9cc0_2&reconnect=auto' style='width: …"
      ]
     },
     "metadata": {},
     "output_type": "display_data"
    },
    {
     "name": "stdout",
     "output_type": "stream",
     "text": [
      " JS Error => TypeError: Cannot read properties of null (reading 'wsSubscription')\n",
      " JS Error => TypeError: Cannot read properties of null (reading 'wsSubscription')\n",
      " JS Error => TypeError: Cannot read properties of null (reading 'wsSubscription')\n",
      " JS Error => error: Uncaught TypeError: Cannot read properties of null (reading 'setSize')\n",
      " JS Error => TypeError: Cannot read properties of null (reading 'wsSubscription')\n",
      " JS Error => error: Uncaught TypeError: Cannot read properties of null (reading 'setSize')\n"
     ]
    }
   ],
   "source": [
    "# demo random rotation\n",
    "test_randomized.unify_mesh()\n",
    "test_randomized_rotated = test_randomized.random_rotate()\n",
    "pl3 = test_randomized_rotated.plot()\n",
    "pl3.show()"
   ]
  },
  {
   "cell_type": "code",
   "execution_count": 5,
   "metadata": {},
   "outputs": [
    {
     "data": {
      "application/vnd.jupyter.widget-view+json": {
       "model_id": "f5b651cc4bc04cefb7a1d98909a02210",
       "version_major": 2,
       "version_minor": 0
      },
      "text/plain": [
       "Widget(value=\"<iframe src='http://localhost:49314/index.html?ui=P_0x160cf5a80_3&reconnect=auto' style='width: …"
      ]
     },
     "metadata": {},
     "output_type": "display_data"
    },
    {
     "name": "stdout",
     "output_type": "stream",
     "text": [
      " JS Error => error: Uncaught TypeError: Cannot read properties of null (reading 'setSize')\n",
      " JS Error => error: Uncaught TypeError: Cannot read properties of null (reading 'setSize')\n",
      " JS Error => error: Uncaught TypeError: Cannot read properties of null (reading 'setSize')\n",
      " JS Error => error: Uncaught TypeError: Cannot read properties of null (reading 'setSize')\n",
      " JS Error => error: Uncaught TypeError: Cannot read properties of null (reading 'setSize')\n",
      " JS Error => error: Uncaught TypeError: Cannot read properties of null (reading 'setSize')\n",
      " JS Error => error: Uncaught TypeError: Cannot read properties of null (reading 'setSize')\n",
      " JS Error => error: Uncaught TypeError: Cannot read properties of null (reading 'setSize')\n",
      " JS Error => error: Uncaught TypeError: Cannot read properties of null (reading 'setSize')\n",
      " JS Error => error: Uncaught TypeError: Cannot read properties of null (reading 'setSize')\n",
      " JS Error => error: Uncaught TypeError: Cannot read properties of null (reading 'setSize')\n",
      " JS Error => error: Uncaught TypeError: Cannot read properties of null (reading 'setSize')\n",
      " JS Error => error: Uncaught TypeError: Cannot read properties of null (reading 'setSize')\n",
      " JS Error => error: Uncaught TypeError: Cannot read properties of null (reading 'setSize')\n",
      " JS Error => error: Uncaught TypeError: Cannot read properties of null (reading 'setSize')\n",
      " JS Error => error: Uncaught TypeError: Cannot read properties of null (reading 'setSize')\n",
      " JS Error => error: Uncaught TypeError: Cannot read properties of null (reading 'setSize')\n"
     ]
    }
   ],
   "source": [
    "# test physically based rendering (PBR)\n",
    "test.unify_mesh()\n",
    "test_mesh = test.model\n",
    "pl4 = pv.Plotter()\n",
    "pl4.add_mesh(test_mesh, color='linen', pbr=True, metallic=0.8, roughness=0.1, diffuse=1)\n",
    "pl4.show()"
   ]
  },
  {
   "cell_type": "code",
   "execution_count": null,
   "metadata": {},
   "outputs": [],
   "source": []
  }
 ],
 "metadata": {
  "kernelspec": {
   "display_name": "3d-modeling",
   "language": "python",
   "name": "python3"
  },
  "language_info": {
   "codemirror_mode": {
    "name": "ipython",
    "version": 3
   },
   "file_extension": ".py",
   "mimetype": "text/x-python",
   "name": "python",
   "nbconvert_exporter": "python",
   "pygments_lexer": "ipython3",
   "version": "3.10.9"
  },
  "orig_nbformat": 4
 },
 "nbformat": 4,
 "nbformat_minor": 2
}
