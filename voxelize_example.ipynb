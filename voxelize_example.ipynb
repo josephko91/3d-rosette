{
 "cells": [
  {
   "cell_type": "code",
   "execution_count": 1,
   "metadata": {},
   "outputs": [
    {
     "data": {
      "text/html": [
       "\n",
       "<table>\n",
       "<tr><th>PolyData</th><th>Information</th></tr>\n",
       "<tr><td>N Cells</td><td>2263</td></tr>\n",
       "<tr><td>N Points</td><td>1139</td></tr>\n",
       "<tr><td>N Strips</td><td>0</td></tr>\n",
       "<tr><td>X Bounds</td><td>-7.071e+00, 6.408e+00</td></tr>\n",
       "<tr><td>Y Bounds</td><td>-6.578e+00, 8.627e+00</td></tr>\n",
       "<tr><td>Z Bounds</td><td>-5.879e+00, 8.266e+00</td></tr>\n",
       "<tr><td>N Arrays</td><td>0</td></tr>\n",
       "</table>\n",
       "\n"
      ],
      "text/plain": [
       "PolyData (0x176d3f820)\n",
       "  N Cells:    2263\n",
       "  N Points:   1139\n",
       "  N Strips:   0\n",
       "  X Bounds:   -7.071e+00, 6.408e+00\n",
       "  Y Bounds:   -6.578e+00, 8.627e+00\n",
       "  Z Bounds:   -5.879e+00, 8.266e+00\n",
       "  N Arrays:   0"
      ]
     },
     "execution_count": 1,
     "metadata": {},
     "output_type": "execute_result"
    }
   ],
   "source": [
    "import numpy as np\n",
    "\n",
    "import pyvista as pv\n",
    "\n",
    "from pyvista import examples\n",
    "\n",
    "# Load a surface to voxelize\n",
    "file_path = '/Users/josephko/research/ice_renders/20230329/ros_n8_a0.40_c3.25_1.stl'\n",
    "surface = pv.read(file_path)\n",
    "surface"
   ]
  },
  {
   "cell_type": "code",
   "execution_count": 2,
   "metadata": {},
   "outputs": [
    {
     "data": {
      "application/vnd.jupyter.widget-view+json": {
       "model_id": "708e7df0d7d64eec8054ca7c7015a448",
       "version_major": 2,
       "version_minor": 0
      },
      "text/plain": [
       "Widget(value=\"<iframe src='http://localhost:50948/index.html?ui=P_0x176d78f40_0&reconnect=auto' style='width: …"
      ]
     },
     "metadata": {},
     "output_type": "display_data"
    }
   ],
   "source": [
    "surface.plot()"
   ]
  },
  {
   "cell_type": "code",
   "execution_count": 3,
   "metadata": {},
   "outputs": [
    {
     "data": {
      "application/vnd.jupyter.widget-view+json": {
       "model_id": "fe2c646b961443fa8af1e1380912befc",
       "version_major": 2,
       "version_minor": 0
      },
      "text/plain": [
       "Widget(value=\"<iframe src='http://localhost:50948/index.html?ui=P_0x108a42da0_1&reconnect=auto' style='width: …"
      ]
     },
     "metadata": {},
     "output_type": "display_data"
    }
   ],
   "source": [
    "# voxels = pv.voxelize(surface, density=surface.length / 200, check_surface=False)\n",
    "voxel_width = density=surface.length / 50\n",
    "density_dims = [voxel_width, voxel_width, voxel_width]\n",
    "voxels = pv.voxelize(surface, density=density_dims, check_surface=False)\n",
    "\n",
    "p = pv.Plotter()\n",
    "p.add_mesh(voxels, color=True, show_edges=True, opacity=0.5)\n",
    "p.add_mesh(surface, color=\"lightblue\", opacity=0.5)\n",
    "p.show()"
   ]
  },
  {
   "cell_type": "code",
   "execution_count": null,
   "metadata": {},
   "outputs": [],
   "source": []
  }
 ],
 "metadata": {
  "kernelspec": {
   "display_name": "3d-modeling",
   "language": "python",
   "name": "python3"
  },
  "language_info": {
   "codemirror_mode": {
    "name": "ipython",
    "version": 3
   },
   "file_extension": ".py",
   "mimetype": "text/x-python",
   "name": "python",
   "nbconvert_exporter": "python",
   "pygments_lexer": "ipython3",
   "version": "3.10.9"
  },
  "orig_nbformat": 4
 },
 "nbformat": 4,
 "nbformat_minor": 2
}
