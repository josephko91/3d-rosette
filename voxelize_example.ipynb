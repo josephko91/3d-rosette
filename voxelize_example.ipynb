{
 "cells": [
  {
   "cell_type": "code",
   "execution_count": 1,
   "metadata": {},
   "outputs": [
    {
     "data": {
      "text/html": [
       "\n",
       "<table>\n",
       "<tr><th>PolyData</th><th>Information</th></tr>\n",
       "<tr><td>N Cells</td><td>2263</td></tr>\n",
       "<tr><td>N Points</td><td>1139</td></tr>\n",
       "<tr><td>N Strips</td><td>0</td></tr>\n",
       "<tr><td>X Bounds</td><td>-7.071e+00, 6.408e+00</td></tr>\n",
       "<tr><td>Y Bounds</td><td>-6.578e+00, 8.627e+00</td></tr>\n",
       "<tr><td>Z Bounds</td><td>-5.879e+00, 8.266e+00</td></tr>\n",
       "<tr><td>N Arrays</td><td>0</td></tr>\n",
       "</table>\n",
       "\n"
      ],
      "text/plain": [
       "PolyData (0x160733820)\n",
       "  N Cells:    2263\n",
       "  N Points:   1139\n",
       "  N Strips:   0\n",
       "  X Bounds:   -7.071e+00, 6.408e+00\n",
       "  Y Bounds:   -6.578e+00, 8.627e+00\n",
       "  Z Bounds:   -5.879e+00, 8.266e+00\n",
       "  N Arrays:   0"
      ]
     },
     "execution_count": 1,
     "metadata": {},
     "output_type": "execute_result"
    }
   ],
   "source": [
    "import numpy as np\n",
    "\n",
    "import pyvista as pv\n",
    "\n",
    "from pyvista import examples\n",
    "\n",
    "# Load a surface to voxelize\n",
    "file_path = '/Users/josephko/research/ice_renders/20230329/ros_n8_a0.40_c3.25_1.stl'\n",
    "surface = pv.read(file_path)\n",
    "surface"
   ]
  },
  {
   "cell_type": "code",
   "execution_count": 2,
   "metadata": {},
   "outputs": [
    {
     "data": {
      "application/vnd.jupyter.widget-view+json": {
       "model_id": "865b73eb5f6b4469935ee326a2cca4fe",
       "version_major": 2,
       "version_minor": 0
      },
      "text/plain": [
       "Widget(value=\"<iframe src='http://localhost:51902/index.html?ui=P_0x16076cf70_0&reconnect=auto' style='width: …"
      ]
     },
     "metadata": {},
     "output_type": "display_data"
    }
   ],
   "source": [
    "surface.plot()"
   ]
  },
  {
   "cell_type": "code",
   "execution_count": 6,
   "metadata": {},
   "outputs": [
    {
     "data": {
      "text/plain": [
       "0.49516185565026205"
      ]
     },
     "execution_count": 6,
     "metadata": {},
     "output_type": "execute_result"
    }
   ],
   "source": [
    "surface.length / 50"
   ]
  },
  {
   "cell_type": "code",
   "execution_count": null,
   "metadata": {},
   "outputs": [],
   "source": [
    "# voxels = pv.voxelize(surface, density=surface.length / 200, check_surface=False)\n",
    "voxel_width = density=surface.length / 50\n",
    "density_dims = [voxel_width, voxel_width, voxel_width]\n",
    "voxels = pv.voxelize(surface, density=density_dims, check_surface=False)\n",
    "\n",
    "p = pv.Plotter()\n",
    "p.add_mesh(voxels, color=True, show_edges=True, opacity=0.5)\n",
    "p.add_mesh(surface, color=\"lightblue\", opacity=0.5)\n",
    "p.show()"
   ]
  },
  {
   "cell_type": "code",
   "execution_count": 10,
   "metadata": {},
   "outputs": [
    {
     "data": {
      "application/vnd.jupyter.widget-view+json": {
       "model_id": "b0ba8830f90e43fa9bcd6c7007cae864",
       "version_major": 2,
       "version_minor": 0
      },
      "text/plain": [
       "Widget(value=\"<iframe src='http://localhost:51902/index.html?ui=P_0x17c4c76d0_5&reconnect=auto' style='width: …"
      ]
     },
     "metadata": {},
     "output_type": "display_data"
    },
    {
     "name": "stdout",
     "output_type": "stream",
     "text": [
      " JS Error => TypeError: Cannot read properties of null (reading 'wsSubscription')\n",
      " JS Error => TypeError: Cannot read properties of null (reading 'wsSubscription')\n",
      " JS Error => TypeError: Cannot read properties of null (reading 'wsSubscription')\n",
      " JS Error => error: Uncaught TypeError: Cannot read properties of null (reading 'setSize')\n",
      " JS Error => error: Uncaught TypeError: Cannot read properties of null (reading 'setSize')\n",
      " JS Error => error: Uncaught TypeError: Cannot read properties of null (reading 'setSize')\n",
      " JS Error => error: Uncaught TypeError: Cannot read properties of null (reading 'setSize')\n",
      " JS Error => error: Uncaught TypeError: Cannot read properties of null (reading 'setSize')\n",
      " JS Error => error: Uncaught TypeError: Cannot read properties of null (reading 'setSize')\n",
      " JS Error => error: Uncaught TypeError: Cannot read properties of null (reading 'setSize')\n",
      " JS Error => error: Uncaught TypeError: Cannot read properties of null (reading 'setSize')\n",
      " JS Error => error: Uncaught TypeError: Cannot read properties of null (reading 'setSize')\n",
      " JS Error => error: Uncaught TypeError: Cannot read properties of null (reading 'setSize')\n",
      " JS Error => error: Uncaught TypeError: Cannot read properties of null (reading 'setSize')\n",
      " JS Error => error: Uncaught TypeError: Cannot read properties of null (reading 'setSize')\n",
      " JS Error => error: Uncaught TypeError: Cannot read properties of null (reading 'setSize')\n",
      " JS Error => error: Uncaught TypeError: Cannot read properties of null (reading 'setSize')\n",
      " JS Error => error: Uncaught TypeError: Cannot read properties of null (reading 'setSize')\n",
      " JS Error => error: Uncaught TypeError: Cannot read properties of null (reading 'setSize')\n",
      " JS Error => error: Uncaught TypeError: Cannot read properties of null (reading 'setSize')\n",
      " JS Error => error: Uncaught TypeError: Cannot read properties of null (reading 'setSize')\n",
      " JS Error => error: Uncaught TypeError: Cannot read properties of null (reading 'setSize')\n",
      " JS Error => error: Uncaught TypeError: Cannot read properties of null (reading 'setSize')\n",
      " JS Error => error: Uncaught TypeError: Cannot read properties of null (reading 'setSize')\n",
      " JS Error => error: Uncaught TypeError: Cannot read properties of null (reading 'setSize')\n",
      " JS Error => error: Uncaught TypeError: Cannot read properties of null (reading 'setSize')\n",
      " JS Error => error: Uncaught TypeError: Cannot read properties of null (reading 'setSize')\n",
      " JS Error => error: Uncaught TypeError: Cannot read properties of null (reading 'setSize')\n",
      " JS Error => error: Uncaught TypeError: Cannot read properties of null (reading 'setSize')\n",
      " JS Error => error: Uncaught TypeError: Cannot read properties of null (reading 'setSize')\n",
      " JS Error => error: Uncaught TypeError: Cannot read properties of null (reading 'setSize')\n",
      " JS Error => error: Uncaught TypeError: Cannot read properties of null (reading 'setSize')\n",
      " JS Error => error: Uncaught TypeError: Cannot read properties of null (reading 'setSize')\n",
      " JS Error => error: Uncaught TypeError: Cannot read properties of null (reading 'setSize')\n",
      " JS Error => error: Uncaught TypeError: Cannot read properties of null (reading 'setSize')\n",
      " JS Error => error: Uncaught TypeError: Cannot read properties of null (reading 'setSize')\n",
      " JS Error => error: Uncaught TypeError: Cannot read properties of null (reading 'setSize')\n",
      " JS Error => error: Uncaught TypeError: Cannot read properties of null (reading 'setSize')\n",
      " JS Error => error: Uncaught TypeError: Cannot read properties of null (reading 'setSize')\n",
      " JS Error => error: Uncaught TypeError: Cannot read properties of null (reading 'setSize')\n",
      " JS Error => error: Uncaught TypeError: Cannot read properties of null (reading 'setSize')\n",
      " JS Error => error: Uncaught TypeError: Cannot read properties of null (reading 'setSize')\n",
      " JS Error => error: Uncaught TypeError: Cannot read properties of null (reading 'setSize')\n",
      " JS Error => error: Uncaught TypeError: Cannot read properties of null (reading 'setSize')\n"
     ]
    }
   ],
   "source": [
    "# Class for interactive voxelization of a mesh with different sizes voxel based on a GUI slider\n",
    "class visualize_voxel_levels():\n",
    "    # class initialization\n",
    "    def __init__(self,mesh, plotter):\n",
    "        self.plot = plotter\n",
    "        self.mesh = mesh\n",
    "    # Function for voxelization, which is called as a callback from the slider widget\n",
    "    def voxelize_mesh(self, value):\n",
    "        # The function gets the slider value as a input and calculates the voxel representation\n",
    "        voxels = pv.voxelize(self.mesh, density=value, check_surface=False)\n",
    "        # It then adds the voxels as a new mesh to the Plotter. Here it's important to not forget the name in the add_mesh,\n",
    "        # as this tells PyVista that this is the same mesh s    o it does not create a new one each time\n",
    "        self.plot.add_mesh(voxels, name='voxel_mesh', show_edges=True)\n",
    "        return\n",
    "    # Function for adding the widget to the Plotter and visualizing everything\n",
    "    def show_different_voxel_levels(self):\n",
    "        self.plot.camera_position = 'xy'\n",
    "        # Create a widget give it the callback function, a minimum and maximum range, initial value, title and event type -\n",
    "        # in our case it calls the callback function every time the widget slider is interacted with\n",
    "        self.plot.add_slider_widget(self.voxelize_mesh, [0.1, 0.5], 0.1, title='Voxel Size', event_type = \"always\")\n",
    "        self.plot.show()\n",
    "                \n",
    "if __name__ == '__main__':\n",
    "    # Load the rooster statue mesh\n",
    "    mesh_path = file_path\n",
    "    mesh = pv.read(mesh_path)\n",
    "\n",
    "    # Initialize the class and call the visualization function\n",
    "    pl = pv.Plotter(window_size=[720, 720])\n",
    "    vis_vox =  visualize_voxel_levels(mesh, pl)\n",
    "    vis_vox.show_different_voxel_levels()"
   ]
  },
  {
   "cell_type": "code",
   "execution_count": null,
   "metadata": {},
   "outputs": [],
   "source": []
  }
 ],
 "metadata": {
  "kernelspec": {
   "display_name": "3d-modeling",
   "language": "python",
   "name": "python3"
  },
  "language_info": {
   "codemirror_mode": {
    "name": "ipython",
    "version": 3
   },
   "file_extension": ".py",
   "mimetype": "text/x-python",
   "name": "python",
   "nbconvert_exporter": "python",
   "pygments_lexer": "ipython3",
   "version": "3.10.9"
  },
  "orig_nbformat": 4
 },
 "nbformat": 4,
 "nbformat_minor": 2
}
