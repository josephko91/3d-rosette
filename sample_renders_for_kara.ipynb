{
 "cells": [
  {
   "cell_type": "code",
   "execution_count": 2,
   "metadata": {},
   "outputs": [],
   "source": [
    "from rosette import Rosette\n",
    "import pyvista as pv\n",
    "import numpy as np\n",
    "import itertools\n",
    "import cv2\n",
    "import os"
   ]
  },
  {
   "cell_type": "code",
   "execution_count": null,
   "metadata": {},
   "outputs": [],
   "source": [
    "a, c, r0, h0, hp, n_arms = 0.4, 2.0, 1.0, 0.25, 0.75, 8\n",
    "basal_min, basal_max = 0.75, 1.25\n",
    "prism_min, prism_max = 0.5, 1.5\n",
    "scaling_range = [basal_min, basal_max, prism_min, prism_max]\n",
    "solid_angle = 30\n",
    "ros = Rosette(a, c, r0, h0, hp, n_arms)\n",
    "ros.unify_mesh()\n",
    "pl1 = ros.plot(op=1.0)\n",
    "pl1.enable_parallel_projection()\n",
    "# pl1.remove_all_lights()\n",
    "pl1.show()"
   ]
  },
  {
   "cell_type": "code",
   "execution_count": 10,
   "metadata": {},
   "outputs": [
    {
     "name": "stdout",
     "output_type": "stream",
     "text": [
      "CPU times: user 16.7 s, sys: 410 ms, total: 17.1 s\n",
      "Wall time: 17.1 s\n"
     ]
    }
   ],
   "source": [
    "%%time\n",
    "# create argument array for use with multi-parameter function\n",
    "# r0, h0, hp set constant for this test to reduce N\n",
    "n_arr = 3\n",
    "a_arr = np.linspace(0.4, 0.5, n_arr)\n",
    "c_arr = np.linspace(1.0, 3.0, n_arr)\n",
    "# n_arms_arr = np.arange(4, 8, dtype=int)\n",
    "n_arms = 8\n",
    "r0 = 1.0 # radius of center sphere\n",
    "h0 = 0.25 # penetration depth of bullets\n",
    "hp = 0.75 # heights of pyramid of bullets\n",
    "save_path = '/Users/josephko/research/ice_renders/20230419/generated'\n",
    "basal_min, basal_max = 0.75, 1.25\n",
    "prism_min, prism_max = 0.75, 1.25\n",
    "scaling_range = [basal_min, basal_max, prism_min, prism_max]\n",
    "solid_angle = 15\n",
    "bg_color = 'black'\n",
    "obj_color = 'white'\n",
    "res=512\n",
    "op=1.0\n",
    "\n",
    "pl = pv.Plotter(off_screen=True, window_size=[res, res])\n",
    "# pl = pv.Plotter(off_screen=True)\n",
    "pl.background_color = bg_color\n",
    "pl.enable_parallel_projection()\n",
    "# pl.remove_all_lights()\n",
    "\n",
    "for a in a_arr:\n",
    "    for c in c_arr:\n",
    "        ros = Rosette(a, c, r0, h0, hp, n_arms)\n",
    "        ros.unify_mesh()\n",
    "        ros_rot = ros.random_rotate()\n",
    "        # mesh = ros.model\n",
    "        # pl.add_mesh(mesh, show_edges=None, color = obj_color, opacity=op, name='mesh')\n",
    "        pl.add_mesh(ros_rot.model, show_edges=None, color = obj_color, opacity=op, name='mesh')\n",
    "        pl.camera.zoom(0.9)\n",
    "        ros_file_name = f'ros_n{n_arms:n}_a{a:.2f}_c{c:.2f}_0.png'\n",
    "        ros_file_path = save_path + '/' + ros_file_name\n",
    "        pl.screenshot(ros_file_path, return_img=False)\n",
    "        for i in range(4): # create randomized versions\n",
    "            ros_rand = ros.randomize_bullets(scaling=scaling_range, location=solid_angle, inplace=False)\n",
    "            ros_rand.unify_mesh()\n",
    "            ros_rand_rot = ros_rand.random_rotate()\n",
    "            # mesh = ros_rand.model\n",
    "            # pl.add_mesh(mesh, show_edges=None, color = obj_color, opacity=op, name='mesh')\n",
    "            pl.add_mesh(ros_rand_rot.model, show_edges=None, color = obj_color, opacity=op, name='mesh')\n",
    "            ros_rand_file_name = f'ros_n{n_arms:n}_a{a:.2f}_c{c:.2f}_{i+1:n}.png'\n",
    "            ros_rand_file_path = save_path + '/' + ros_rand_file_name\n",
    "            pl.screenshot(ros_rand_file_path, return_img=False)\n",
    "\n",
    "pl.close()"
   ]
  },
  {
   "cell_type": "code",
   "execution_count": 15,
   "metadata": {},
   "outputs": [
    {
     "name": "stdout",
     "output_type": "stream",
     "text": [
      "CPU times: user 14.4 s, sys: 345 ms, total: 14.7 s\n",
      "Wall time: 14.6 s\n"
     ]
    }
   ],
   "source": [
    "%%time\n",
    "# save as flat, 2d-projections\n",
    "\n",
    "# create argument array for use with multi-parameter function\n",
    "# r0, h0, hp set constant for this test to reduce N\n",
    "n_arr = 3\n",
    "a_arr = np.linspace(0.4, 0.5, n_arr)\n",
    "c_arr = np.linspace(1.0, 3.0, n_arr)\n",
    "# n_arms_arr = np.arange(4, 8, dtype=int)\n",
    "n_arms = 8\n",
    "r0 = 1.0 # radius of center sphere\n",
    "h0 = 0.25 # penetration depth of bullets\n",
    "hp = 0.75 # heights of pyramid of bullets\n",
    "save_path = '/Users/josephko/research/ice_renders/20230419/2d-projections'\n",
    "basal_min, basal_max = 0.75, 1.25\n",
    "prism_min, prism_max = 0.75, 1.25\n",
    "scaling_range = [basal_min, basal_max, prism_min, prism_max]\n",
    "solid_angle = 15\n",
    "bg_color = 'black'\n",
    "obj_color = 'white'\n",
    "res=512\n",
    "op=1.0\n",
    "\n",
    "pl = pv.Plotter(off_screen=True, window_size=[res, res])\n",
    "# pl = pv.Plotter(off_screen=True)\n",
    "pl.background_color = bg_color\n",
    "pl.enable_parallel_projection()\n",
    "pl.remove_all_lights()\n",
    "\n",
    "for a in a_arr:\n",
    "    for c in c_arr:\n",
    "        ros = Rosette(a, c, r0, h0, hp, n_arms)\n",
    "        ros.unify_mesh()\n",
    "        ros_rot = ros.random_rotate()\n",
    "        # mesh = ros.model\n",
    "        # pl.add_mesh(mesh, show_edges=None, color = obj_color, opacity=op, name='mesh')\n",
    "        pl.add_mesh(ros_rot.model, show_edges=None, color = obj_color, opacity=op, name='mesh')\n",
    "        pl.camera.zoom(0.9)\n",
    "        ros_file_name = f'ros_n{n_arms:n}_a{a:.2f}_c{c:.2f}_0.png'\n",
    "        ros_file_path = save_path + '/' + ros_file_name\n",
    "        pl.screenshot(ros_file_path, return_img=False)\n",
    "        for i in range(4): # create randomized versions\n",
    "            ros_rand = ros.randomize_bullets(scaling=scaling_range, location=solid_angle, inplace=False)\n",
    "            ros_rand.unify_mesh()\n",
    "            ros_rand_rot = ros_rand.random_rotate()\n",
    "            # mesh = ros_rand.model\n",
    "            # pl.add_mesh(mesh, show_edges=None, color = obj_color, opacity=op, name='mesh')\n",
    "            pl.add_mesh(ros_rand_rot.model, show_edges=None, color = obj_color, opacity=op, name='mesh')\n",
    "            ros_rand_file_name = f'ros_n{n_arms:n}_a{a:.2f}_c{c:.2f}_{i+1:n}.png'\n",
    "            ros_rand_file_path = save_path + '/' + ros_rand_file_name\n",
    "            pl.screenshot(ros_rand_file_path, return_img=False)\n",
    "\n",
    "pl.close()"
   ]
  }
 ],
 "metadata": {
  "kernelspec": {
   "display_name": "3d-modeling",
   "language": "python",
   "name": "python3"
  },
  "language_info": {
   "codemirror_mode": {
    "name": "ipython",
    "version": 3
   },
   "file_extension": ".py",
   "mimetype": "text/x-python",
   "name": "python",
   "nbconvert_exporter": "python",
   "pygments_lexer": "ipython3",
   "version": "3.10.9"
  },
  "orig_nbformat": 4
 },
 "nbformat": 4,
 "nbformat_minor": 2
}
