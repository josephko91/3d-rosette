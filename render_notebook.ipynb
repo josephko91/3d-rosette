{
 "cells": [
  {
   "cell_type": "code",
   "execution_count": 1,
   "metadata": {},
   "outputs": [],
   "source": [
    "from rosette import Rosette\n",
    "import pyvista as pv\n",
    "import numpy as np\n",
    "import itertools\n",
    "import cv2\n",
    "import os"
   ]
  },
  {
   "cell_type": "code",
   "execution_count": 2,
   "metadata": {},
   "outputs": [
    {
     "data": {
      "application/vnd.jupyter.widget-view+json": {
       "model_id": "52010abdfa8f4a7b958b2185700c78e1",
       "version_major": 2,
       "version_minor": 0
      },
      "text/plain": [
       "Widget(value=\"<iframe src='http://localhost:64382/index.html?ui=P_0x1042bb580_0&reconnect=auto' style='width: …"
      ]
     },
     "metadata": {},
     "output_type": "display_data"
    }
   ],
   "source": [
    "a, c, r0, h0, hp, n_arms = 0.5, 2.25, 1.0, 0.25, 0.75, 9\n",
    "basal_min, basal_max = 0.75, 1.25\n",
    "prism_min, prism_max = 0.5, 1.5\n",
    "scaling_range = [basal_min, basal_max, prism_min, prism_max]\n",
    "solid_angle = 30\n",
    "ros = Rosette(a, c, r0, h0, hp, n_arms)\n",
    "ros.unify_mesh()\n",
    "pl1 = ros.plot()\n",
    "pl1.enable_parallel_projection()\n",
    "pl1.remove_all_lights()\n",
    "pl1.show()"
   ]
  },
  {
   "cell_type": "code",
   "execution_count": 3,
   "metadata": {},
   "outputs": [
    {
     "data": {
      "application/vnd.jupyter.widget-view+json": {
       "model_id": "051b460b517d4344829e119334014543",
       "version_major": 2,
       "version_minor": 0
      },
      "text/plain": [
       "Widget(value=\"<iframe src='http://localhost:64382/index.html?ui=P_0x105ba56f0_1&reconnect=auto' style='width: …"
      ]
     },
     "metadata": {},
     "output_type": "display_data"
    }
   ],
   "source": [
    "ros_rand = ros.randomize_bullets(scaling=scaling_range, location=solid_angle, inplace=False)\n",
    "ros_rand.unify_mesh()\n",
    "pl2 = ros_rand.plot()\n",
    "pl2.enable_parallel_projection()\n",
    "pl2.remove_all_lights()\n",
    "pl2.show()"
   ]
  },
  {
   "cell_type": "code",
   "execution_count": 4,
   "metadata": {},
   "outputs": [],
   "source": [
    "# Generate random views of the particle and save as png\n",
    "save_path = '/Users/josephko/research/ice_renders/test'\n",
    "n_renders = 100\n",
    "res = 64\n",
    "bg_color='black'\n",
    "obj_color='white'\n",
    "op=0.9\n",
    "\n",
    "pl = pv.Plotter(off_screen=True, window_size=[res, res])\n",
    "pl.background_color = bg_color\n",
    "pl.enable_parallel_projection()\n",
    "pl.remove_all_lights()\n",
    "\n",
    "for i in range(n_renders):\n",
    "    ros_rot = ros_rand.random_rotate()\n",
    "    mesh = ros_rot.model\n",
    "    pl.add_mesh(mesh, show_edges=None, color = obj_color, opacity=op, name='mesh')\n",
    "    file_name = f'ros_n{n_arms}_a{a}_c{c}_{i}.png'\n",
    "    file_path = save_path + '/' + file_name\n",
    "    # pl.show(auto_close=False, interactive=False, jupyter_backend='none')\n",
    "    # pl.show(screenshot=file_path, interactive=False, jupyter_backend='none')\n",
    "    pl.screenshot(file_path, return_img=False)\n",
    "    # pl.deep_clean()\n",
    "pl.close()"
   ]
  },
  {
   "cell_type": "code",
   "execution_count": null,
   "metadata": {},
   "outputs": [],
   "source": [
    "# Create grid of rendered rosettes\n",
    "# Source: https://stackoverflow.com/questions/50881227/display-images-in-a-grid\n",
    "dirname = '/Users/josephko/research/ice_renders' #Name of the directory containing the images\n",
    "name = dirname +f'/ros_grid_{res}.png' #Name of the exported file\n",
    "margin = 20 #Margin between pictures in pixels\n",
    "w = 10 # Width of the matrix (nb of images)\n",
    "h = 10 # Height of the matrix (nb of images)\n",
    "n = w*h\n",
    "\n",
    "filename_list = []\n",
    "\n",
    "for file in os.listdir(save_path):\n",
    "    if file.endswith(\".png\"):\n",
    "        filename_list.append(file)\n",
    "\n",
    "filename_list.sort()\n",
    "\n",
    "imgs = [cv2.imread(save_path+\"/\"+file) for file in filename_list]\n",
    "\n",
    "#Define the shape of the image to be replicated (all images should have the same shape)\n",
    "img_h, img_w, img_c = imgs[0].shape\n",
    "\n",
    "#Define the margins in x and y directions\n",
    "m_x = margin\n",
    "m_y = margin\n",
    "\n",
    "#Size of the full size image\n",
    "# mat_x = img_w * w + m_x * (w - 1)\n",
    "# mat_y = img_h * h + m_y * (h - 1)\n",
    "mat_x = 720\n",
    "mat_y = 720\n",
    "\n",
    "#Create a matrix of zeros of the right size and fill with 255 (so margins end up white)\n",
    "imgmatrix = np.zeros((mat_y, mat_x, img_c),np.uint8)\n",
    "imgmatrix.fill(255)\n",
    "\n",
    "#Prepare an iterable with the right dimensions\n",
    "positions = itertools.product(range(h), range(w))\n",
    "\n",
    "for (y_i, x_i), img in zip(positions, imgs):\n",
    "    x = x_i * (img_w + m_x)\n",
    "    y = y_i * (img_h + m_y)\n",
    "    imgmatrix[y:y+img_h, x:x+img_w, :] = img\n",
    "\n",
    "resized = cv2.resize(imgmatrix, (mat_x//3,mat_y//3), interpolation = cv2.INTER_AREA)\n",
    "compression_params = [cv2.IMWRITE_JPEG_QUALITY, 90]\n",
    "cv2.imwrite(name, resized, compression_params)"
   ]
  },
  {
   "cell_type": "code",
   "execution_count": null,
   "metadata": {},
   "outputs": [],
   "source": [
    "# Create grid of CPI images for reference\n",
    "dirname = '/Users/josephko/research/ICDCdataset/Ros' #Name of the directory containing the images\n",
    "save_folder = '/Users/josephko/research/ice_renders'\n",
    "name = save_folder +f'/cpi_grid.png' #Name of the exported file\n",
    "margin = 20 #Margin between pictures in pixels\n",
    "w = 10 # Width of the matrix (nb of images)\n",
    "h = 10 # Height of the matrix (nb of images)\n",
    "n = w*h\n",
    "\n",
    "filename_list = []\n",
    "\n",
    "for file in os.listdir(dirname):\n",
    "    if file.endswith(\".png\"):\n",
    "        filename_list.append(file)\n",
    "\n",
    "filename_list.sort()\n",
    "\n",
    "imgs = [cv2.imread(dirname+\"/\"+file) for file in filename_list]\n",
    "n_imgs = w*h\n",
    "imgs = imgs[:n_imgs]\n",
    "\n",
    "imgs_resized = []\n",
    "for image in imgs: \n",
    "    resized = cv2.resize(image, (256,256), interpolation = cv2.INTER_AREA)\n",
    "    imgs_resized.append(resized)\n",
    "\n",
    "#Define the shape of the image to be replicated (all images should have the same shape)\n",
    "img_h, img_w, img_c = imgs_resized[0].shape\n",
    "\n",
    "#Define the margins in x and y directions\n",
    "m_x = margin\n",
    "m_y = margin\n",
    "\n",
    "#Size of the full size image\n",
    "mat_x = img_w * w + m_x * (w - 1)\n",
    "mat_y = img_h * h + m_y * (h - 1)\n",
    "\n",
    "#Create a matrix of zeros of the right size and fill with 255 (so margins end up white)\n",
    "imgmatrix = np.zeros((mat_y, mat_x, img_c),np.uint8)\n",
    "imgmatrix.fill(255)\n",
    "\n",
    "#Prepare an iterable with the right dimensions\n",
    "positions = itertools.product(range(h), range(w))\n",
    "\n",
    "for (y_i, x_i), img in zip(positions, imgs_resized):\n",
    "    x = x_i * (img_w + m_x)\n",
    "    y = y_i * (img_h + m_y)\n",
    "    imgmatrix[y:y+img_h, x:x+img_w, :] = img\n",
    "\n",
    "resized = cv2.resize(imgmatrix, (mat_x//3,mat_y//3), interpolation = cv2.INTER_AREA)\n",
    "compression_params = [cv2.IMWRITE_JPEG_QUALITY, 90]\n",
    "cv2.imwrite(name, resized, compression_params)"
   ]
  },
  {
   "cell_type": "code",
   "execution_count": null,
   "metadata": {},
   "outputs": [],
   "source": [
    "import matplotlib.pyplot as plt\n",
    "plt.imshow(imgs_resized[5])"
   ]
  },
  {
   "cell_type": "code",
   "execution_count": null,
   "metadata": {},
   "outputs": [],
   "source": [
    "X = np.random.uniform(low=0,high=360,size=(100,3))\n"
   ]
  },
  {
   "cell_type": "code",
   "execution_count": null,
   "metadata": {},
   "outputs": [],
   "source": [
    "X[0]"
   ]
  },
  {
   "cell_type": "code",
   "execution_count": null,
   "metadata": {},
   "outputs": [],
   "source": [
    "# folder to save images\n",
    "save_path = '/Users/josephko/research/ice_renders/sample_rosettes'\n",
    "\n",
    "for a in a_list:\n",
    "    for c in c_list:\n",
    "        for n_arms in n_arms_list:\n",
    "            ros = Rosette(a, c, r0, h0, hp, n_arms)\n",
    "            ros_rotated = ros.random_rotate()\n",
    "            pl = ros_rotated.plot()\n",
    "            file_name = f'ros_n{n_arms}_a{a}_c{c}.png'\n",
    "            file_path = save_path + '/' + file_name\n",
    "            pl.show(screenshot=file_path, interactive=False, jupyter_backend='none')"
   ]
  }
 ],
 "metadata": {
  "kernelspec": {
   "display_name": "3d-modeling",
   "language": "python",
   "name": "python3"
  },
  "language_info": {
   "codemirror_mode": {
    "name": "ipython",
    "version": 3
   },
   "file_extension": ".py",
   "mimetype": "text/x-python",
   "name": "python",
   "nbconvert_exporter": "python",
   "pygments_lexer": "ipython3",
   "version": "3.10.9"
  },
  "orig_nbformat": 4
 },
 "nbformat": 4,
 "nbformat_minor": 2
}
