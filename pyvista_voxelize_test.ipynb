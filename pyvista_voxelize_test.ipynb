{
 "cells": [
  {
   "cell_type": "code",
   "execution_count": 1,
   "metadata": {},
   "outputs": [
    {
     "name": "stderr",
     "output_type": "stream",
     "text": [
      "Selecting Enclosed Points: 100%|██████████[00:01<00:00]\n",
      "Extracting Points: 100%|██████████[00:00<00:00]\n"
     ]
    }
   ],
   "source": [
    "import numpy as np\n",
    "import pyvista as pv\n",
    "from pyvista import examples\n",
    "\n",
    "mesh = examples.download_foot_bones()\n",
    "surface = mesh.extract_geometry()\n",
    "\n",
    "nx, ny, nz = 100, 75, 50\n",
    "\n",
    "x_min, x_max, y_min, y_max, z_min, z_max = mesh.bounds\n",
    "x = np.linspace(x_min, x_max, nx)\n",
    "y = np.linspace(y_min, y_max, ny)\n",
    "z = np.linspace(z_min, z_max, nz)\n",
    "x, y, z = np.meshgrid(x, y, z)\n",
    "\n",
    "# Create unstructured grid from the structured grid\n",
    "grid = pv.StructuredGrid(x, y, z)\n",
    "ugrid = pv.UnstructuredGrid(grid)\n",
    "\n",
    "# get part of the mesh within the mesh's bounding surface.\n",
    "selection = ugrid.select_enclosed_points(surface, tolerance=0.0, check_surface=True, progress_bar=True)\n",
    "mask = selection.point_data['SelectedPoints'].view(np.bool_)\n",
    "\n",
    "# extract cells from point indices\n",
    "vox = ugrid.extract_points(mask, progress_bar=True)"
   ]
  },
  {
   "cell_type": "code",
   "execution_count": 2,
   "metadata": {},
   "outputs": [
    {
     "data": {
      "application/vnd.jupyter.widget-view+json": {
       "model_id": "c61932f1b22d46a4a5476e7d34e76ddd",
       "version_major": 2,
       "version_minor": 0
      },
      "text/plain": [
       "Widget(value=\"<iframe src='http://localhost:62958/index.html?ui=P_0x1109eb0a0_0&reconnect=auto' style='width: …"
      ]
     },
     "metadata": {},
     "output_type": "display_data"
    }
   ],
   "source": [
    "vox.plot()"
   ]
  },
  {
   "cell_type": "code",
   "execution_count": null,
   "metadata": {},
   "outputs": [],
   "source": [
    "# try example with rosette\n",
    "import numpy as np\n",
    "import pyvista as pv\n",
    "import pymeshfix as mf\n",
    "file_path = '/Users/josephko/research/ice_renders/20230329/ros_n7_a0.30_c1.00_0.stl'\n",
    "mesh = pv.read(file_path)\n",
    "meshfix = mf.MeshFix(mesh)\n",
    "meshfix.repair(verbose=True)\n",
    "repaired = meshfix.mesh\n",
    "surface = repaired.extract_geometry()"
   ]
  },
  {
   "cell_type": "code",
   "execution_count": 4,
   "metadata": {},
   "outputs": [
    {
     "name": "stdout",
     "output_type": "stream",
     "text": [
      "INFO- Loaded 1067 vertices and 2127 faces.\n",
      "Patching holes...\n",
      "Patched 3 holes\n",
      "Fixing degeneracies and intersections\n",
      "\n",
      "100% done \n",
      "INFO- ********* ITERATION 0 *********\n",
      "INFO- Removing degeneracies...\n",
      "INFO- Removing self-intersections...\n",
      "\n",
      "98 % done   \n",
      "INFO- 13 intersecting triangles have been selected.\n",
      "\n",
      "0 % done   \n",
      "INFO- 10 intersecting triangles have been selected.\n",
      "\n",
      "0 % done   \n",
      "INFO- No intersections detected.\n"
     ]
    },
    {
     "name": "stderr",
     "output_type": "stream",
     "text": [
      "Selecting Enclosed Points: 100%|██████████[00:05<00:00]\n",
      "Extracting Points: 100%|██████████[00:00<00:00]\n"
     ]
    },
    {
     "data": {
      "application/vnd.jupyter.widget-view+json": {
       "model_id": "735097de8db844a2ad689a5d21e6f6b0",
       "version_major": 2,
       "version_minor": 0
      },
      "text/plain": [
       "Widget(value=\"<iframe src='http://localhost:62958/index.html?ui=P_0x161bea290_2&reconnect=auto' style='width: …"
      ]
     },
     "metadata": {},
     "output_type": "display_data"
    }
   ],
   "source": [
    "# voxelize with set dimensions\n",
    "nx, ny, nz = 128, 128, 128\n",
    "\n",
    "x_min, x_max, y_min, y_max, z_min, z_max = mesh.bounds\n",
    "x = np.linspace(x_min, x_max, nx)\n",
    "y = np.linspace(y_min, y_max, ny)\n",
    "z = np.linspace(z_min, z_max, nz)\n",
    "x, y, z = np.meshgrid(x, y, z)\n",
    "\n",
    "# Create unstructured grid from the structured grid\n",
    "grid = pv.StructuredGrid(x, y, z)\n",
    "ugrid = pv.UnstructuredGrid(grid)\n",
    "\n",
    "# get part of the mesh within the mesh's bounding surface.\n",
    "selection = ugrid.select_enclosed_points(surface, tolerance=0.0, check_surface=True, progress_bar=True)\n",
    "\n",
    "mask = selection.point_data['SelectedPoints'].view(np.bool_)\n",
    "\n",
    "# extract cells from point indices\n",
    "vox = ugrid.extract_points(mask, progress_bar=True)\n",
    "\n",
    "# plot voxelized object\n",
    "pl = pv.Plotter()\n",
    "pl.background_color = 'black'\n",
    "# pl.enable_parallel_projection()\n",
    "# pl.remove_all_lights()\n",
    "pl.add_mesh(vox, color='white')\n",
    "pl.show()"
   ]
  },
  {
   "cell_type": "code",
   "execution_count": 5,
   "metadata": {},
   "outputs": [
    {
     "name": "stderr",
     "output_type": "stream",
     "text": [
      "Selecting Enclosed Points: 100%|██████████[00:00<00:00]\n",
      "Extracting Points: 100%|██████████[00:00<00:00]\n"
     ]
    },
    {
     "data": {
      "application/vnd.jupyter.widget-view+json": {
       "model_id": "35088b08fb4445c68638425cca005128",
       "version_major": 2,
       "version_minor": 0
      },
      "text/plain": [
       "Widget(value=\"<iframe src='http://localhost:62958/index.html?ui=P_0x161824f10_3&reconnect=auto' style='width: …"
      ]
     },
     "metadata": {},
     "output_type": "display_data"
    }
   ],
   "source": [
    "# try with different resolution\n",
    "nx, ny, nz = 64, 64, 64\n",
    "\n",
    "x_min, x_max, y_min, y_max, z_min, z_max = mesh.bounds\n",
    "x = np.linspace(x_min, x_max, nx)\n",
    "y = np.linspace(y_min, y_max, ny)\n",
    "z = np.linspace(z_min, z_max, nz)\n",
    "x, y, z = np.meshgrid(x, y, z)\n",
    "\n",
    "# Create unstructured grid from the structured grid\n",
    "grid = pv.StructuredGrid(x, y, z)\n",
    "ugrid = pv.UnstructuredGrid(grid)\n",
    "\n",
    "# get part of the mesh within the mesh's bounding surface.\n",
    "selection = ugrid.select_enclosed_points(surface, tolerance=0.0, check_surface=True, progress_bar=True)\n",
    "\n",
    "mask = selection.point_data['SelectedPoints'].view(np.bool_)\n",
    "\n",
    "# extract cells from point indices\n",
    "vox = ugrid.extract_points(mask, progress_bar=True)\n",
    "\n",
    "# plot voxelized object\n",
    "pl = pv.Plotter()\n",
    "pl.background_color = 'black'\n",
    "# pl.enable_parallel_projection()\n",
    "# pl.remove_all_lights()\n",
    "pl.add_mesh(vox, color='white')\n",
    "pl.show()"
   ]
  }
 ],
 "metadata": {
  "kernelspec": {
   "display_name": "3d-modeling",
   "language": "python",
   "name": "python3"
  },
  "language_info": {
   "codemirror_mode": {
    "name": "ipython",
    "version": 3
   },
   "file_extension": ".py",
   "mimetype": "text/x-python",
   "name": "python",
   "nbconvert_exporter": "python",
   "pygments_lexer": "ipython3",
   "version": "3.10.9"
  },
  "orig_nbformat": 4
 },
 "nbformat": 4,
 "nbformat_minor": 2
}
