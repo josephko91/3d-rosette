{
 "cells": [
  {
   "cell_type": "code",
   "execution_count": 1,
   "metadata": {},
   "outputs": [],
   "source": [
    "import multiprocessing as mp\n",
    "import psutil \n",
    "from rosette import Rosette\n",
    "import pyvista as pv\n",
    "import concurrent.futures\n",
    "from tqdm import tqdm\n",
    "from functools import partial\n",
    "from itertools import repeat\n",
    "# from multiprocessing import Pool, freeze_support\n",
    "from multiprocess import Pool, freeze_support\n",
    "import numpy as np"
   ]
  },
  {
   "cell_type": "code",
   "execution_count": null,
   "metadata": {},
   "outputs": [],
   "source": [
    "mp.cpu_count()"
   ]
  },
  {
   "cell_type": "code",
   "execution_count": null,
   "metadata": {},
   "outputs": [],
   "source": [
    "n_core_physical = psutil.cpu_count(logical = False)\n",
    "n_core_logical = psutil.cpu_count(logical = True)\n",
    "print(\"# physical cores = \", n_core_physical)\n",
    "print(\"# logical cores = \", n_core_logical)"
   ]
  },
  {
   "cell_type": "code",
   "execution_count": null,
   "metadata": {},
   "outputs": [],
   "source": [
    "# create a single rosette\n",
    "\n",
    "# set geoemetric parameters\n",
    "a = 0.5 # half max length across basal face\n",
    "c =  2.0 # half max length across prism face\n",
    "r0 = 1.0 # radius of center sphere\n",
    "h0 = 0.25 # penetration depth of bullets\n",
    "hp = 0.75 # heights of pyramid of bullets\n",
    "n_arms = 8 # number of bullet arms\n",
    "test = Rosette(a, c, r0, h0, hp, n_arms)\n",
    "test.unify_mesh()\n",
    "test_mesh = test.model"
   ]
  },
  {
   "cell_type": "code",
   "execution_count": null,
   "metadata": {},
   "outputs": [],
   "source": [
    "# save test mesh as stl file\n",
    "test_mesh.save('test_mesh.stl')"
   ]
  },
  {
   "cell_type": "code",
   "execution_count": null,
   "metadata": {},
   "outputs": [],
   "source": [
    "%%time\n",
    "# create rosette 100 times \n",
    "# set geoemetric parameters\n",
    "a = 0.5 # half max length across basal face\n",
    "c =  2.0 # half max length across prism face\n",
    "r0 = 1.0 # radius of center sphere\n",
    "h0 = 0.25 # penetration depth of bullets\n",
    "hp = 0.75 # heights of pyramid of bullets\n",
    "n_arms = 12 # number of bullet arms\n",
    "N = 1_000\n",
    "for i in tqdm(range(N)):\n",
    "    test = Rosette(a, c, r0, h0, hp, n_arms)"
   ]
  },
  {
   "cell_type": "code",
   "execution_count": null,
   "metadata": {},
   "outputs": [],
   "source": [
    "%%time\n",
    "# create rosette 100 times, in parallel\n",
    "n_cores = psutil.cpu_count(logical = False)\n",
    "# set geoemetric parameters\n",
    "a = 0.5 # half max length across basal face\n",
    "c =  2.0 # half max length across prism face\n",
    "r0 = 1.0 # radius of center sphere\n",
    "h0 = 0.25 # penetration depth of bullets\n",
    "hp = 0.75 # heights of pyramid of bullets\n",
    "n_arms = 12 # number of bullet arms\n",
    "N = 1_000\n",
    "def create_rosette(N):\n",
    "    test = Rosette(a, c, r0, h0, hp, n_arms)\n",
    "\n",
    "def main():\n",
    "    with Pool(n_cores) as pool:\n",
    "        pool.map(create_rosette, range(N))\n",
    "\n",
    "if __name__==\"__main__\":\n",
    "    main()\n"
   ]
  },
  {
   "cell_type": "code",
   "execution_count": null,
   "metadata": {},
   "outputs": [],
   "source": [
    "a = 0.20 # half max length across basal face\n",
    "c =  1.0 # half max length across prism face\n",
    "r0 = 1.0 # radius of center sphere\n",
    "h0 = 0.25 # penetration depth of bullets\n",
    "hp = 0.75 # heights of pyramid of bullets\n",
    "n_arms = 9 # number of bullet arms\n",
    "\n",
    "ros = Rosette(a, c, r0, h0, hp, n_arms)\n",
    "pl = ros.plot()\n",
    "pl.show()\n",
    "\n",
    "\n",
    "# ros.unify_mesh()\n",
    "# ros_file_name = f'ros_n{n_arms:n}_a{a:.2f}_c{c:.2f}_0.stl'\n",
    "# ros_file_path = save_path + '/' + ros_file_name\n",
    "# ros.model.save(ros_file_path)"
   ]
  },
  {
   "cell_type": "code",
   "execution_count": null,
   "metadata": {},
   "outputs": [],
   "source": [
    "a = 0.70 # half max length across basal face\n",
    "c =  1.0 # half max length across prism face\n",
    "r0 = 1.0 # radius of center sphere\n",
    "h0 = 0.25 # penetration depth of bullets\n",
    "hp = 0.75 # heights of pyramid of bullets\n",
    "n_arms = 9 # number of bullet arms\n",
    "\n",
    "def generate_rosette(a, c, r0, h0, hp, n_arms):\n",
    "    save_path = '/Users/josephko/research/ice_renders/20230329'\n",
    "    basal_min, basal_max = 0.75, 1.25\n",
    "    prism_min, prism_max = 0.5, 1.5\n",
    "    scaling_range = [basal_min, basal_max, prism_min, prism_max]\n",
    "    solid_angle = 15\n",
    "    ros = Rosette(a, c, r0, h0, hp, n_arms)\n",
    "    ros.unify_mesh()\n",
    "    ros_file_name = f'ros_n{n_arms:n}_a{a:.2f}_c{c:.2f}_0.stl'\n",
    "    ros_file_path = save_path + '/' + ros_file_name\n",
    "    ros.model.save(ros_file_path)\n",
    "    # for i in range(5): # create 9 random versions\n",
    "    #     ros_rand = ros.randomize_bullets(scaling=scaling_range, location=solid_angle, inplace=False)\n",
    "    #     ros_rand.unify_mesh()\n",
    "    #     ros_rand_file_name = f'ros_n{n_arms:n}_a{a:.2f}_c{c:.2f}_{i+1:n}.stl'\n",
    "    #     ros_rand_file_path = save_path + '/' + ros_rand_file_name\n",
    "    #     # ros_rand.model.save(ros_rand_file_path)\n",
    "\n",
    "generate_rosette(a, c, r0, h0, hp, n_arms)"
   ]
  },
  {
   "cell_type": "code",
   "execution_count": 2,
   "metadata": {},
   "outputs": [],
   "source": [
    "from multiprocess import get_context\n",
    "from multiprocessing import set_start_method\n",
    "set_start_method('fork')"
   ]
  },
  {
   "cell_type": "code",
   "execution_count": 3,
   "metadata": {},
   "outputs": [
    {
     "name": "stdout",
     "output_type": "stream",
     "text": [
      "CPU times: user 36.4 ms, sys: 25.1 ms, total: 61.5 ms\n",
      "Wall time: 1min 1s\n"
     ]
    }
   ],
   "source": [
    "%%time\n",
    "def set_args(n_arr):\n",
    "    # create argument array for use with multi-parameter function\n",
    "    # r0, h0, hp set constant for this test to reduce N\n",
    "    a_arr = np.linspace(0.1, 0.5, n_arr)\n",
    "    c_arr = np.linspace(1.0, 4.0, n_arr)\n",
    "    n_arms_arr = np.arange(1, 9, dtype=int)\n",
    "    r0 = 1.0 # radius of center sphere\n",
    "    h0 = 0.25 # penetration depth of bullets\n",
    "    hp = 0.75 # heights of pyramid of bullets\n",
    "    args_list = []\n",
    "    for a in a_arr:\n",
    "        for c in c_arr:\n",
    "            for n_arms in n_arms_arr:\n",
    "                args = (a, c, r0, h0, hp, n_arms)\n",
    "                args_list.append(args)\n",
    "    return args_list\n",
    "\n",
    "def generate_rosette(a, c, r0, h0, hp, n_arms):\n",
    "    save_path = '/Users/josephko/research/ice_renders/20230329'\n",
    "    basal_min, basal_max = 0.75, 1.25\n",
    "    prism_min, prism_max = 0.5, 1.5\n",
    "    scaling_range = [basal_min, basal_max, prism_min, prism_max]\n",
    "    solid_angle = 15\n",
    "    ros = Rosette(a, c, r0, h0, hp, n_arms)\n",
    "    ros.unify_mesh()\n",
    "    ros_file_name = f'ros_n{n_arms:n}_a{a:.2f}_c{c:.2f}_0.stl'\n",
    "    ros_file_path = save_path + '/' + ros_file_name\n",
    "    ros.model.save(ros_file_path)\n",
    "    for i in range(9): # create randomized versions\n",
    "        ros_rand = ros.randomize_bullets(scaling=scaling_range, location=solid_angle, inplace=False)\n",
    "        ros_rand.unify_mesh()\n",
    "        ros_rand_file_name = f'ros_n{n_arms:n}_a{a:.2f}_c{c:.2f}_{i+1:n}.stl'\n",
    "        ros_rand_file_path = save_path + '/' + ros_rand_file_name\n",
    "        ros_rand.model.save(ros_rand_file_path)\n",
    "\n",
    "# def main():\n",
    "#     args_list = set_args(5)\n",
    "#     n_cores = psutil.cpu_count(logical = False)\n",
    "#     with Pool(n_cores) as pool:\n",
    "#         pool.starmap(generate_rosette, args_list)\n",
    "#         pool.close()\n",
    "def main():\n",
    "    args_list = set_args(5)\n",
    "    n_cores = psutil.cpu_count(logical = False)\n",
    "    pool = Pool(n_cores)\n",
    "    pool.starmap(generate_rosette, args_list)\n",
    "    pool.close()\n",
    "\n",
    "\n",
    "if __name__==\"__main__\":\n",
    "    freeze_support()\n",
    "    main()"
   ]
  },
  {
   "cell_type": "code",
   "execution_count": 11,
   "metadata": {},
   "outputs": [
    {
     "name": "stderr",
     "output_type": "stream",
     "text": [
      "ERROR:root:Algorithm vtkIntersectionPolyDataFilter (0x127efce10) returned failure for request: vtkInformation (0x127eeffb0)\n",
      "\u001b[0m\u001b[33m2023-03-30 01:13:23.367 ( 969.842s) [          ADD887]vtkIntersectionPolyData:1593  WARN| vtkIntersectionPolyDataFilter (0x127efce10): No cell with correct orientation found\u001b[0m\n",
      "\u001b[0m\u001b[31m2023-03-30 01:13:23.367 ( 969.843s) [          ADD887]       vtkExecutive.cxx:741    ERR| vtkCompositeDataPipeline (0x127eff8e0): Algorithm vtkIntersectionPolyDataFilter (0x127efce10) returned failure for request: vtkInformation (0x127eeffb0)\n",
      "  Debug: Off\n",
      "  Modified Time: 1620221094\n",
      "  Reference Count: 1\n",
      "  Registered Events: (none)\n",
      "  Request: REQUEST_DATA\n",
      "  FROM_OUTPUT_PORT: 0\n",
      "  ALGORITHM_AFTER_FORWARD: 1\n",
      "  FORWARD_DIRECTION: 0\n",
      "\n",
      "\u001b[0m\n",
      "ERROR:root:Algorithm vtkBooleanOperationPolyDataFilter (0x127edd6a0) returned failure for request: vtkInformation (0x127eed400)\n",
      "\u001b[0m\u001b[31m2023-03-30 01:13:23.368 ( 969.843s) [          ADD887]       vtkExecutive.cxx:741    ERR| vtkCompositeDataPipeline (0x127ef7010): Algorithm vtkBooleanOperationPolyDataFilter (0x127edd6a0) returned failure for request: vtkInformation (0x127eed400)\n",
      "  Debug: Off\n",
      "  Modified Time: 1620220813\n",
      "  Reference Count: 1\n",
      "  Registered Events: (none)\n",
      "  Request: REQUEST_DATA\n",
      "  FROM_OUTPUT_PORT: 0\n",
      "  ALGORITHM_AFTER_FORWARD: 1\n",
      "  FORWARD_DIRECTION: 0\n",
      "\n",
      "\u001b[0m\n"
     ]
    },
    {
     "ename": "KeyboardInterrupt",
     "evalue": "",
     "output_type": "error",
     "traceback": [
      "\u001b[0;31m---------------------------------------------------------------------------\u001b[0m",
      "\u001b[0;31mKeyboardInterrupt\u001b[0m                         Traceback (most recent call last)",
      "File \u001b[0;32m<timed exec>:51\u001b[0m\n",
      "File \u001b[0;32m<timed exec>:46\u001b[0m, in \u001b[0;36mmain\u001b[0;34m()\u001b[0m\n",
      "File \u001b[0;32m<timed exec>:32\u001b[0m, in \u001b[0;36mgenerate_rosette\u001b[0;34m(a, c, r0, h0, hp, n_arms)\u001b[0m\n",
      "File \u001b[0;32m~/research/3d-rosette/rosette.py:97\u001b[0m, in \u001b[0;36mRosette.unify_mesh\u001b[0;34m(self)\u001b[0m\n\u001b[1;32m     95\u001b[0m     bullet \u001b[39m=\u001b[39m \u001b[39mself\u001b[39m\u001b[39m.\u001b[39mbullets[i]\n\u001b[1;32m     96\u001b[0m     bullet_mesh \u001b[39m=\u001b[39m bullet[\u001b[39m'\u001b[39m\u001b[39mmesh\u001b[39m\u001b[39m'\u001b[39m]\n\u001b[0;32m---> 97\u001b[0m     rosette \u001b[39m=\u001b[39m rosette\u001b[39m.\u001b[39;49mboolean_union(bullet_mesh)\u001b[39m.\u001b[39mtriangulate()\n\u001b[1;32m     99\u001b[0m \u001b[39mself\u001b[39m\u001b[39m.\u001b[39mmodel \u001b[39m=\u001b[39m rosette\n",
      "File \u001b[0;32m/opt/homebrew/anaconda3/envs/3d-modeling/lib/python3.10/site-packages/pyvista/core/filters/poly_data.py:185\u001b[0m, in \u001b[0;36mPolyDataFilters.boolean_union\u001b[0;34m(self, other_mesh, tolerance, progress_bar)\u001b[0m\n\u001b[1;32m    118\u001b[0m \u001b[39mdef\u001b[39;00m \u001b[39mboolean_union\u001b[39m(\u001b[39mself\u001b[39m, other_mesh, tolerance\u001b[39m=\u001b[39m\u001b[39m1e-5\u001b[39m, progress_bar\u001b[39m=\u001b[39m\u001b[39mFalse\u001b[39;00m):\n\u001b[1;32m    119\u001b[0m \u001b[39m    \u001b[39m\u001b[39m\"\"\"Perform a boolean union operation on two meshes.\u001b[39;00m\n\u001b[1;32m    120\u001b[0m \n\u001b[1;32m    121\u001b[0m \u001b[39m    Essentially, boolean union, difference, and intersection are\u001b[39;00m\n\u001b[0;32m   (...)\u001b[0m\n\u001b[1;32m    183\u001b[0m \n\u001b[1;32m    184\u001b[0m \u001b[39m    \"\"\"\u001b[39;00m\n\u001b[0;32m--> 185\u001b[0m     \u001b[39mreturn\u001b[39;00m \u001b[39mself\u001b[39;49m\u001b[39m.\u001b[39;49m_boolean(\u001b[39m'\u001b[39;49m\u001b[39munion\u001b[39;49m\u001b[39m'\u001b[39;49m, other_mesh, tolerance, progress_bar\u001b[39m=\u001b[39;49mprogress_bar)\n",
      "File \u001b[0;32m/opt/homebrew/anaconda3/envs/3d-modeling/lib/python3.10/site-packages/pyvista/core/filters/poly_data.py:94\u001b[0m, in \u001b[0;36mPolyDataFilters._boolean\u001b[0;34m(self, btype, other_mesh, tolerance, progress_bar)\u001b[0m\n\u001b[1;32m     92\u001b[0m bfilter\u001b[39m.\u001b[39mReorientDifferenceCellsOn()  \u001b[39m# this is already default\u001b[39;00m\n\u001b[1;32m     93\u001b[0m bfilter\u001b[39m.\u001b[39mSetTolerance(tolerance)\n\u001b[0;32m---> 94\u001b[0m _update_alg(bfilter, progress_bar, \u001b[39m'\u001b[39;49m\u001b[39mPerforming Boolean Operation\u001b[39;49m\u001b[39m'\u001b[39;49m)\n\u001b[1;32m     96\u001b[0m \u001b[39mreturn\u001b[39;00m _get_output(bfilter)\n",
      "File \u001b[0;32m/opt/homebrew/anaconda3/envs/3d-modeling/lib/python3.10/site-packages/pyvista/core/filters/__init__.py:36\u001b[0m, in \u001b[0;36m_update_alg\u001b[0;34m(alg, progress_bar, message)\u001b[0m\n\u001b[1;32m     34\u001b[0m         alg\u001b[39m.\u001b[39mUpdate()\n\u001b[1;32m     35\u001b[0m \u001b[39melse\u001b[39;00m:\n\u001b[0;32m---> 36\u001b[0m     alg\u001b[39m.\u001b[39;49mUpdate()\n",
      "\u001b[0;31mKeyboardInterrupt\u001b[0m: "
     ]
    }
   ],
   "source": [
    "%%time\n",
    "# SERIAL VERSION OF CODE ABOVE\n",
    "def set_args(n_arr):\n",
    "    # create argument array for use with multi-parameter function\n",
    "    # r0, h0, hp set constant for this test to reduce N\n",
    "    a_arr = np.linspace(0.1, 0.5, n_arr)\n",
    "    c_arr = np.linspace(1.0, 4.0, n_arr)\n",
    "    n_arms_arr = np.arange(1, 9, dtype=int)\n",
    "    r0 = 1.0 # radius of center sphere\n",
    "    h0 = 0.25 # penetration depth of bullets\n",
    "    hp = 0.75 # heights of pyramid of bullets\n",
    "    args_list = []\n",
    "    for a in a_arr:\n",
    "        for c in c_arr:\n",
    "            for n_arms in n_arms_arr:\n",
    "                args = (a, c, r0, h0, hp, n_arms)\n",
    "                args_list.append(args)\n",
    "    return args_list\n",
    "\n",
    "def generate_rosette(a, c, r0, h0, hp, n_arms):\n",
    "    save_path = '/Users/josephko/research/ice_renders/20230329_serial'\n",
    "    basal_min, basal_max = 0.75, 1.25\n",
    "    prism_min, prism_max = 0.5, 1.5\n",
    "    scaling_range = [basal_min, basal_max, prism_min, prism_max]\n",
    "    solid_angle = 15\n",
    "    ros = Rosette(a, c, r0, h0, hp, n_arms)\n",
    "    ros.unify_mesh()\n",
    "    ros_file_name = f'ros_n{n_arms:n}_a{a:.2f}_c{c:.2f}_0.stl'\n",
    "    ros_file_path = save_path + '/' + ros_file_name\n",
    "    ros.model.save(ros_file_path)\n",
    "    for i in range(9): # create randomized versions\n",
    "        ros_rand = ros.randomize_bullets(scaling=scaling_range, location=solid_angle, inplace=False)\n",
    "        ros_rand.unify_mesh()\n",
    "        ros_rand_file_name = f'ros_n{n_arms:n}_a{a:.2f}_c{c:.2f}_{i+1:n}.stl'\n",
    "        ros_rand_file_path = save_path + '/' + ros_rand_file_name\n",
    "        ros_rand.model.save(ros_rand_file_path)\n",
    "\n",
    "# def main():\n",
    "#     args_list = set_args(5)\n",
    "#     n_cores = psutil.cpu_count(logical = False)\n",
    "#     with Pool(n_cores) as pool:\n",
    "#         pool.starmap(generate_rosette, args_list)\n",
    "#         pool.close()\n",
    "def main():\n",
    "    args_list = set_args(5)\n",
    "    for args in args_list:\n",
    "        generate_rosette(args[0], args[1], args[2], args[3], args[4], args[5])\n",
    "\n",
    "\n",
    "if __name__==\"__main__\":\n",
    "    # freeze_support()\n",
    "    main()"
   ]
  },
  {
   "cell_type": "code",
   "execution_count": 8,
   "metadata": {},
   "outputs": [
    {
     "name": "stdout",
     "output_type": "stream",
     "text": [
      "0.1\n"
     ]
    }
   ],
   "source": [
    "def set_args(n_arr):\n",
    "    # create argument array for use with multi-parameter function\n",
    "    # r0, h0, hp set constant for this test to reduce N\n",
    "    a_arr = np.linspace(0.1, 0.5, n_arr)\n",
    "    c_arr = np.linspace(1.0, 4.0, n_arr)\n",
    "    n_arms_arr = np.arange(1, 9, dtype=int)\n",
    "    r0 = 1.0 # radius of center sphere\n",
    "    h0 = 0.25 # penetration depth of bullets\n",
    "    hp = 0.75 # heights of pyramid of bullets\n",
    "    args_list = []\n",
    "    for a in a_arr:\n",
    "        for c in c_arr:\n",
    "            for n_arms in n_arms_arr:\n",
    "                args = (a, c, r0, h0, hp, n_arms)\n",
    "                args_list.append(args)\n",
    "    return args_list\n",
    "\n",
    "def generate_rosette(a, c, r0, h0, hp, n_arms):\n",
    "    save_path = '/Users/josephko/research/ice_renders/20230329_serial'\n",
    "    basal_min, basal_max = 0.75, 1.25\n",
    "    prism_min, prism_max = 0.5, 1.5\n",
    "    scaling_range = [basal_min, basal_max, prism_min, prism_max]\n",
    "    solid_angle = 15\n",
    "    ros = Rosette(a, c, r0, h0, hp, n_arms)\n",
    "    ros.unify_mesh()\n",
    "    ros_file_name = f'ros_n{n_arms:n}_a{a:.2f}_c{c:.2f}_0.stl'\n",
    "    ros_file_path = save_path + '/' + ros_file_name\n",
    "    ros.model.save(ros_file_path)\n",
    "    for i in range(9): # create randomized versions\n",
    "        ros_rand = ros.randomize_bullets(scaling=scaling_range, location=solid_angle, inplace=False)\n",
    "        ros_rand.unify_mesh()\n",
    "        ros_rand_file_name = f'ros_n{n_arms:n}_a{a:.2f}_c{c:.2f}_{i+1:n}.stl'\n",
    "        ros_rand_file_path = save_path + '/' + ros_rand_file_name\n",
    "        ros_rand.model.save(ros_rand_file_path)\n",
    "\n",
    "args_list = set_args(2)\n",
    "\n",
    "# for args in args_list:\n",
    "#     print(args)"
   ]
  },
  {
   "cell_type": "code",
   "execution_count": null,
   "metadata": {},
   "outputs": [],
   "source": [
    "n_arms_arr = np.arange(1, 8, dtype=int)\n",
    "n_arms_arr"
   ]
  },
  {
   "cell_type": "code",
   "execution_count": null,
   "metadata": {},
   "outputs": [],
   "source": [
    "from functools import partial\n",
    "from itertools import repeat\n",
    "# from multiprocessing import Pool, freeze_support\n",
    "from multiprocess import Pool, freeze_support\n",
    "\n",
    "def func(a, b):\n",
    "    return a + b\n",
    "\n",
    "def main():\n",
    "    a_args = [1,2,3]\n",
    "    second_arg = 1\n",
    "    with Pool() as pool:\n",
    "        L = pool.starmap(func, [(1, 1), (2, 1), (3, 1)])\n",
    "        M = pool.starmap(func, zip(a_args, repeat(second_arg)))\n",
    "        N = pool.map(partial(func, b=second_arg), a_args)\n",
    "        assert L == M == N\n",
    "\n",
    "if __name__==\"__main__\":\n",
    "    freeze_support()\n",
    "    main()"
   ]
  },
  {
   "cell_type": "code",
   "execution_count": null,
   "metadata": {},
   "outputs": [],
   "source": []
  },
  {
   "cell_type": "code",
   "execution_count": null,
   "metadata": {},
   "outputs": [],
   "source": []
  },
  {
   "cell_type": "code",
   "execution_count": null,
   "metadata": {},
   "outputs": [],
   "source": []
  }
 ],
 "metadata": {
  "kernelspec": {
   "display_name": "3d-modeling",
   "language": "python",
   "name": "python3"
  },
  "language_info": {
   "codemirror_mode": {
    "name": "ipython",
    "version": 3
   },
   "file_extension": ".py",
   "mimetype": "text/x-python",
   "name": "python",
   "nbconvert_exporter": "python",
   "pygments_lexer": "ipython3",
   "version": "3.10.9"
  },
  "orig_nbformat": 4
 },
 "nbformat": 4,
 "nbformat_minor": 2
}
