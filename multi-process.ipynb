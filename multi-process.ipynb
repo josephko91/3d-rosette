{
 "cells": [
  {
   "cell_type": "code",
   "execution_count": 17,
   "metadata": {},
   "outputs": [],
   "source": [
    "import multiprocessing as mp\n",
    "import psutil \n",
    "from rosette import Rosette\n",
    "import pyvista as pv\n",
    "import concurrent.futures\n",
    "from tqdm import tqdm\n",
    "from functools import partial\n",
    "from itertools import repeat\n",
    "# from multiprocessing import Pool, freeze_support\n",
    "from multiprocess import Pool, freeze_support"
   ]
  },
  {
   "cell_type": "code",
   "execution_count": 10,
   "metadata": {},
   "outputs": [
    {
     "data": {
      "text/plain": [
       "10"
      ]
     },
     "execution_count": 10,
     "metadata": {},
     "output_type": "execute_result"
    }
   ],
   "source": [
    "mp.cpu_count()"
   ]
  },
  {
   "cell_type": "code",
   "execution_count": 11,
   "metadata": {},
   "outputs": [
    {
     "name": "stdout",
     "output_type": "stream",
     "text": [
      "# physical cores =  10\n",
      "# logical cores =  10\n"
     ]
    }
   ],
   "source": [
    "n_core_physical = psutil.cpu_count(logical = False)\n",
    "n_core_logical = psutil.cpu_count(logical = True)\n",
    "print(\"# physical cores = \", n_core_physical)\n",
    "print(\"# logical cores = \", n_core_logical)"
   ]
  },
  {
   "cell_type": "code",
   "execution_count": 12,
   "metadata": {},
   "outputs": [
    {
     "name": "stdout",
     "output_type": "stream",
     "text": [
      "11 ms ± 402 µs per loop (mean ± std. dev. of 7 runs, 100 loops each)\n"
     ]
    }
   ],
   "source": [
    "%%timeit\n",
    "# create a single rosette\n",
    "\n",
    "# set geoemetric parameters\n",
    "a = 0.5 # half max length across basal face\n",
    "c =  2.0 # half max length across prism face\n",
    "r0 = 1.0 # radius of center sphere\n",
    "h0 = 0.25 # penetration depth of bullets\n",
    "hp = 0.75 # heights of pyramid of bullets\n",
    "n_arms = 8 # number of bullet arms\n",
    "test = Rosette(a, c, r0, h0, hp, n_arms)"
   ]
  },
  {
   "cell_type": "code",
   "execution_count": 27,
   "metadata": {},
   "outputs": [
    {
     "name": "stderr",
     "output_type": "stream",
     "text": [
      "100%|██████████| 1000/1000 [00:13<00:00, 73.59it/s]"
     ]
    },
    {
     "name": "stdout",
     "output_type": "stream",
     "text": [
      "CPU times: user 13.1 s, sys: 970 ms, total: 14.1 s\n",
      "Wall time: 13.6 s\n"
     ]
    },
    {
     "name": "stderr",
     "output_type": "stream",
     "text": [
      "\n"
     ]
    }
   ],
   "source": [
    "%%time\n",
    "# create rosette 100 times \n",
    "# set geoemetric parameters\n",
    "a = 0.5 # half max length across basal face\n",
    "c =  2.0 # half max length across prism face\n",
    "r0 = 1.0 # radius of center sphere\n",
    "h0 = 0.25 # penetration depth of bullets\n",
    "hp = 0.75 # heights of pyramid of bullets\n",
    "n_arms = 12 # number of bullet arms\n",
    "N = 1_000\n",
    "for i in tqdm(range(N)):\n",
    "    test = Rosette(a, c, r0, h0, hp, n_arms)"
   ]
  },
  {
   "cell_type": "code",
   "execution_count": 28,
   "metadata": {},
   "outputs": [
    {
     "name": "stdout",
     "output_type": "stream",
     "text": [
      "CPU times: user 18.9 ms, sys: 35 ms, total: 53.9 ms\n",
      "Wall time: 2.04 s\n"
     ]
    }
   ],
   "source": [
    "%%time\n",
    "# create rosette 100 times, in parallel\n",
    "n_cores = psutil.cpu_count(logical = False)\n",
    "# set geoemetric parameters\n",
    "a = 0.5 # half max length across basal face\n",
    "c =  2.0 # half max length across prism face\n",
    "r0 = 1.0 # radius of center sphere\n",
    "h0 = 0.25 # penetration depth of bullets\n",
    "hp = 0.75 # heights of pyramid of bullets\n",
    "n_arms = 12 # number of bullet arms\n",
    "N = 1_000\n",
    "def create_rosette(N):\n",
    "    test = Rosette(a, c, r0, h0, hp, n_arms)\n",
    "\n",
    "def main():\n",
    "    with Pool(n_cores) as pool:\n",
    "        pool.map(create_rosette, range(N))\n",
    "\n",
    "if __name__==\"__main__\":\n",
    "    main()\n"
   ]
  },
  {
   "cell_type": "code",
   "execution_count": 8,
   "metadata": {},
   "outputs": [],
   "source": [
    "from functools import partial\n",
    "from itertools import repeat\n",
    "# from multiprocessing import Pool, freeze_support\n",
    "from multiprocess import Pool, freeze_support\n",
    "\n",
    "def func(a, b):\n",
    "    return a + b\n",
    "\n",
    "def main():\n",
    "    a_args = [1,2,3]\n",
    "    second_arg = 1\n",
    "    with Pool() as pool:\n",
    "        L = pool.starmap(func, [(1, 1), (2, 1), (3, 1)])\n",
    "        M = pool.starmap(func, zip(a_args, repeat(second_arg)))\n",
    "        N = pool.map(partial(func, b=second_arg), a_args)\n",
    "        assert L == M == N\n",
    "\n",
    "if __name__==\"__main__\":\n",
    "    freeze_support()\n",
    "    main()"
   ]
  },
  {
   "cell_type": "code",
   "execution_count": null,
   "metadata": {},
   "outputs": [],
   "source": []
  },
  {
   "cell_type": "code",
   "execution_count": null,
   "metadata": {},
   "outputs": [],
   "source": []
  },
  {
   "cell_type": "code",
   "execution_count": null,
   "metadata": {},
   "outputs": [],
   "source": []
  }
 ],
 "metadata": {
  "kernelspec": {
   "display_name": "3d-modeling",
   "language": "python",
   "name": "python3"
  },
  "language_info": {
   "codemirror_mode": {
    "name": "ipython",
    "version": 3
   },
   "file_extension": ".py",
   "mimetype": "text/x-python",
   "name": "python",
   "nbconvert_exporter": "python",
   "pygments_lexer": "ipython3",
   "version": "3.10.9"
  },
  "orig_nbformat": 4
 },
 "nbformat": 4,
 "nbformat_minor": 2
}
