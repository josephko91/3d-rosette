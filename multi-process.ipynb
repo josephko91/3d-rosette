{
 "cells": [
  {
   "cell_type": "code",
   "execution_count": 6,
   "metadata": {},
   "outputs": [],
   "source": [
    "import multiprocessing as mp\n",
    "import psutil \n",
    "from rosette import Rosette\n",
    "import pyvista as pv"
   ]
  },
  {
   "cell_type": "code",
   "execution_count": 3,
   "metadata": {},
   "outputs": [
    {
     "data": {
      "text/plain": [
       "10"
      ]
     },
     "execution_count": 3,
     "metadata": {},
     "output_type": "execute_result"
    }
   ],
   "source": [
    "mp.cpu_count()"
   ]
  },
  {
   "cell_type": "code",
   "execution_count": 5,
   "metadata": {},
   "outputs": [
    {
     "name": "stdout",
     "output_type": "stream",
     "text": [
      "# physical cores =  10\n",
      "# logical cores =  10\n"
     ]
    }
   ],
   "source": [
    "n_core_physical = psutil.cpu_count(logical = False)\n",
    "n_core_logical = psutil.cpu_count(logical = True)\n",
    "print(\"# physical cores = \", n_core_physical)\n",
    "print(\"# logical cores = \", n_core_logical)"
   ]
  },
  {
   "cell_type": "code",
   "execution_count": null,
   "metadata": {},
   "outputs": [],
   "source": [
    "# create 100 rosettes in parallel, for different values of n_cores\n"
   ]
  }
 ],
 "metadata": {
  "kernelspec": {
   "display_name": "3d-modeling",
   "language": "python",
   "name": "python3"
  },
  "language_info": {
   "codemirror_mode": {
    "name": "ipython",
    "version": 3
   },
   "file_extension": ".py",
   "mimetype": "text/x-python",
   "name": "python",
   "nbconvert_exporter": "python",
   "pygments_lexer": "ipython3",
   "version": "3.10.9"
  },
  "orig_nbformat": 4
 },
 "nbformat": 4,
 "nbformat_minor": 2
}
